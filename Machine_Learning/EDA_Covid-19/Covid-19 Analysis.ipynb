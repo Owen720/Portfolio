{
 "cells": [
  {
   "cell_type": "markdown",
   "metadata": {},
   "source": [
    "# How Covid 19 spread and affect different populations\n"
   ]
  },
  {
   "cell_type": "markdown",
   "metadata": {},
   "source": [
    "# Story background\n",
    "source:https://www.otandp.com/zh-hk/%E6%96%B0%E5%9E%8B%E5%86%A0%E7%8B%80%E7%97%85%E6%AF%92%E7%97%85%E6%99%82%E9%96%93%E8%BB%B8\n",
    "\n",
    "2019\n",
    "December 30\n",
    "Li Wenliang[1], a 34-year-old ophthalmologist from Wuhan In late December, he posted a message in his WeChat classmates' group alerting them to information about a new virus.\n",
    "2020\n",
    "22 January\n",
    "A WHO China field mission to Wuhan issued a statement saying that there was evidence of human-to-human transmission in Wuhan, but that further investigation was needed to understand the full extent of transmission. [3]\n",
    "The first positive case was also recorded in Hong Kong. A 39-year-old man arrived in Hong Kong from China.\n",
    "\n",
    "source:https://zh.wikipedia.org/wiki/2019%E5%86%A0%E7%8B%80%E7%97%85%E6%AF%92%E7%97%85%E9%A6%99%E6%B8%AF%E7%96%AB%E6%83%85\n",
    "The Severe Specific Infectious Pneumonia (SSP) outbreak in Hong Kong is part of the SSP pandemic. On 23 January 2020, the Centre for Health Protection (CHP) officially announced the confirmation of a male visitor from Mainland China who arrived in Hong Kong on 21 January from Wuhan and transferred to the Guangzhou-Shenzhen-Hong Kong Express Rail Link at Shenzhen North Station. However, the epidemic resumed after New Year's Day in 2022, when the highly infectious Omicron mutated virus subtype BA.2 spread rapidly from quarantine hotels to the community in January 2022[10]. The fifth wave of the epidemic peaked on 3 March, with 76,991 positive cases tested by rapid antigen testing and nucleic acid testing in a single day, with a gradual decline in the number of positive cases in a single day in mid-March [11]. Studies by the Li Ka Shing Faculty of Medicine of the University of Hong Kong have shown that at least 3.58 million people have actually been infected in the fifth wave of the epidemic in Hong Kong[12] , and with more than 80% of the population having received at least two doses of vaccine, herd immunity has emerged in Hong Kong[13] . Unless a new variant of the virus emerges, the chances of another outbreak like the fifth wave in the coming year are slim[15]."
   ]
  },
  {
   "cell_type": "markdown",
   "metadata": {},
   "source": [
    "# Task 1 - Analysis Covid-19 in worldwide"
   ]
  },
  {
   "cell_type": "code",
   "execution_count": 1,
   "metadata": {},
   "outputs": [],
   "source": [
    "import pandas as pd\n",
    "import matplotlib.pyplot as plt\n",
    "import seaborn as sns\n"
   ]
  },
  {
   "cell_type": "code",
   "execution_count": 2,
   "metadata": {},
   "outputs": [],
   "source": [
    "df = pd.read_csv('covid_worldwide.csv')\n"
   ]
  },
  {
   "cell_type": "code",
   "execution_count": 3,
   "metadata": {},
   "outputs": [
    {
     "data": {
      "text/html": [
       "<div>\n",
       "<style scoped>\n",
       "    .dataframe tbody tr th:only-of-type {\n",
       "        vertical-align: middle;\n",
       "    }\n",
       "\n",
       "    .dataframe tbody tr th {\n",
       "        vertical-align: top;\n",
       "    }\n",
       "\n",
       "    .dataframe thead th {\n",
       "        text-align: right;\n",
       "    }\n",
       "</style>\n",
       "<table border=\"1\" class=\"dataframe\">\n",
       "  <thead>\n",
       "    <tr style=\"text-align: right;\">\n",
       "      <th></th>\n",
       "      <th>Serial Number</th>\n",
       "      <th>Country</th>\n",
       "      <th>Total Cases</th>\n",
       "      <th>Total Deaths</th>\n",
       "      <th>Total Recovered</th>\n",
       "      <th>Active Cases</th>\n",
       "      <th>Total Test</th>\n",
       "      <th>Population</th>\n",
       "    </tr>\n",
       "  </thead>\n",
       "  <tbody>\n",
       "    <tr>\n",
       "      <th>0</th>\n",
       "      <td>1</td>\n",
       "      <td>USA</td>\n",
       "      <td>104,196,861</td>\n",
       "      <td>1,132,935</td>\n",
       "      <td>101,322,779</td>\n",
       "      <td>1,741,147</td>\n",
       "      <td>1,159,832,679</td>\n",
       "      <td>334,805,269</td>\n",
       "    </tr>\n",
       "    <tr>\n",
       "      <th>1</th>\n",
       "      <td>2</td>\n",
       "      <td>India</td>\n",
       "      <td>44,682,784</td>\n",
       "      <td>530,740</td>\n",
       "      <td>44,150,289</td>\n",
       "      <td>1,755</td>\n",
       "      <td>915,265,788</td>\n",
       "      <td>1,406,631,776</td>\n",
       "    </tr>\n",
       "    <tr>\n",
       "      <th>2</th>\n",
       "      <td>3</td>\n",
       "      <td>France</td>\n",
       "      <td>39,524,311</td>\n",
       "      <td>164,233</td>\n",
       "      <td>39,264,546</td>\n",
       "      <td>95,532</td>\n",
       "      <td>271,490,188</td>\n",
       "      <td>65,584,518</td>\n",
       "    </tr>\n",
       "    <tr>\n",
       "      <th>3</th>\n",
       "      <td>4</td>\n",
       "      <td>Germany</td>\n",
       "      <td>37,779,833</td>\n",
       "      <td>165,711</td>\n",
       "      <td>37,398,100</td>\n",
       "      <td>216,022</td>\n",
       "      <td>122,332,384</td>\n",
       "      <td>83,883,596</td>\n",
       "    </tr>\n",
       "    <tr>\n",
       "      <th>4</th>\n",
       "      <td>5</td>\n",
       "      <td>Brazil</td>\n",
       "      <td>36,824,580</td>\n",
       "      <td>697,074</td>\n",
       "      <td>35,919,372</td>\n",
       "      <td>208,134</td>\n",
       "      <td>63,776,166</td>\n",
       "      <td>215,353,593</td>\n",
       "    </tr>\n",
       "  </tbody>\n",
       "</table>\n",
       "</div>"
      ],
      "text/plain": [
       "   Serial Number  Country  Total Cases Total Deaths Total Recovered  \\\n",
       "0              1      USA  104,196,861    1,132,935     101,322,779   \n",
       "1              2    India   44,682,784      530,740      44,150,289   \n",
       "2              3   France   39,524,311      164,233      39,264,546   \n",
       "3              4  Germany   37,779,833      165,711      37,398,100   \n",
       "4              5   Brazil   36,824,580      697,074      35,919,372   \n",
       "\n",
       "  Active Cases     Total Test     Population  \n",
       "0    1,741,147  1,159,832,679    334,805,269  \n",
       "1        1,755    915,265,788  1,406,631,776  \n",
       "2       95,532    271,490,188     65,584,518  \n",
       "3      216,022    122,332,384     83,883,596  \n",
       "4      208,134     63,776,166    215,353,593  "
      ]
     },
     "execution_count": 3,
     "metadata": {},
     "output_type": "execute_result"
    }
   ],
   "source": [
    "df.head()\n"
   ]
  },
  {
   "cell_type": "code",
   "execution_count": 4,
   "metadata": {},
   "outputs": [
    {
     "data": {
      "text/plain": [
       "Index(['Serial Number', 'Country', 'Total Cases', 'Total Deaths',\n",
       "       'Total Recovered', 'Active Cases', 'Total Test', 'Population'],\n",
       "      dtype='object')"
      ]
     },
     "execution_count": 4,
     "metadata": {},
     "output_type": "execute_result"
    }
   ],
   "source": [
    "df.columns\n"
   ]
  },
  {
   "cell_type": "code",
   "execution_count": 5,
   "metadata": {},
   "outputs": [
    {
     "data": {
      "text/html": [
       "<div>\n",
       "<style scoped>\n",
       "    .dataframe tbody tr th:only-of-type {\n",
       "        vertical-align: middle;\n",
       "    }\n",
       "\n",
       "    .dataframe tbody tr th {\n",
       "        vertical-align: top;\n",
       "    }\n",
       "\n",
       "    .dataframe thead th {\n",
       "        text-align: right;\n",
       "    }\n",
       "</style>\n",
       "<table border=\"1\" class=\"dataframe\">\n",
       "  <thead>\n",
       "    <tr style=\"text-align: right;\">\n",
       "      <th></th>\n",
       "      <th>Serial Number</th>\n",
       "    </tr>\n",
       "  </thead>\n",
       "  <tbody>\n",
       "    <tr>\n",
       "      <th>count</th>\n",
       "      <td>231.000000</td>\n",
       "    </tr>\n",
       "    <tr>\n",
       "      <th>mean</th>\n",
       "      <td>116.000000</td>\n",
       "    </tr>\n",
       "    <tr>\n",
       "      <th>std</th>\n",
       "      <td>66.828138</td>\n",
       "    </tr>\n",
       "    <tr>\n",
       "      <th>min</th>\n",
       "      <td>1.000000</td>\n",
       "    </tr>\n",
       "    <tr>\n",
       "      <th>25%</th>\n",
       "      <td>58.500000</td>\n",
       "    </tr>\n",
       "    <tr>\n",
       "      <th>50%</th>\n",
       "      <td>116.000000</td>\n",
       "    </tr>\n",
       "    <tr>\n",
       "      <th>75%</th>\n",
       "      <td>173.500000</td>\n",
       "    </tr>\n",
       "    <tr>\n",
       "      <th>max</th>\n",
       "      <td>231.000000</td>\n",
       "    </tr>\n",
       "  </tbody>\n",
       "</table>\n",
       "</div>"
      ],
      "text/plain": [
       "       Serial Number\n",
       "count     231.000000\n",
       "mean      116.000000\n",
       "std        66.828138\n",
       "min         1.000000\n",
       "25%        58.500000\n",
       "50%       116.000000\n",
       "75%       173.500000\n",
       "max       231.000000"
      ]
     },
     "execution_count": 5,
     "metadata": {},
     "output_type": "execute_result"
    }
   ],
   "source": [
    "df.describe()\n"
   ]
  },
  {
   "cell_type": "code",
   "execution_count": 11,
   "metadata": {},
   "outputs": [],
   "source": [
    "\n",
    "df['Total Cases'] = df['Total Cases'].str.replace(',', '')\n",
    "\n",
    "\n",
    "df['Total Cases'] = df['Total Cases'].astype(int)\n"
   ]
  },
  {
   "cell_type": "code",
   "execution_count": 25,
   "metadata": {},
   "outputs": [
    {
     "data": {
      "image/png": "[encoded data removed]",
      "text/plain": [
       "<Figure size 1500x800 with 1 Axes>"
      ]
     },
     "metadata": {},
     "output_type": "display_data"
    }
   ],
   "source": [
    "top_10 = df.sort_values(by='Total Cases', ascending=False).head(10)\n",
    "\n",
    "plt.figure(figsize=(15, 8))\n",
    "sns.barplot(x='Country', y='Total Cases', data=top_10, estimator=sum)\n",
    "plt.xticks(rotation=90)\n",
    "plt.title('COVID-19 Confirmed Cases by Country (Top 10)')\n",
    "plt.xlabel('Country')\n",
    "plt.ylabel('Confirmed Cases')\n",
    "plt.show()\n"
   ]
  },
  {
   "cell_type": "code",
   "execution_count": 33,
   "metadata": {},
   "outputs": [
    {
     "name": "stdout",
     "output_type": "stream",
     "text": [
      "RMSE: 0.000\n",
      "R^2: 1.000\n"
     ]
    }
   ],
   "source": [
    "from sklearn.model_selection import train_test_split\n",
    "from sklearn.preprocessing import StandardScaler\n",
    "from sklearn.linear_model import LinearRegression\n",
    "from sklearn.metrics import mean_squared_error, r2_score\n",
    "\n",
    "\n",
    "df = df.dropna() \n",
    "X = df[['Total Cases', 'Total Deaths', 'Total Recovered', 'Active Cases',  'Population']]\n",
    "y = df['Total Cases']\n",
    "scaler = StandardScaler()\n",
    "X = scaler.fit_transform(X)\n",
    "X_train, X_test, y_train, y_test = train_test_split(X, y, test_size=0.2, random_state=42)\n",
    "\n",
    "lr = LinearRegression()\n",
    "lr.fit(X_train, y_train)\n",
    "\n",
    "y_pred = lr.predict(X_test)\n",
    "mse = mean_squared_error(y_test, y_pred)\n",
    "rmse = np.sqrt(mse)\n",
    "r2 = r2_score(y_test, y_pred)\n",
    "\n",
    "print(f'RMSE: {rmse:.3f}')\n",
    "print(f'R^2: {r2:.3f}')\n"
   ]
  },
  {
   "cell_type": "markdown",
   "metadata": {},
   "source": [
    "RMSE and R^2 are indicators for evaluating the performance of a regression model.\n",
    "\n",
    "RMSE stands for Root Mean Squared Error, which is the square root of the average of the squares of the difference between the actual value and the predicted value. In other words, the larger the difference between the predicted value and the actual value, the larger the RMSE, and the smaller the difference between the predicted value and the actual value, the smaller the RMSE. The smaller the RMSE, the better the performance of the model. If the RMSE is 0.000, it means that the model's predicted value and the actual value agree perfectly.\n",
    "\n",
    "R^2 is also called the Coefficient of Determination, and is an indicator of how well the value predicted by the model matches the actual value. The R^2 value ranges from 0 to 1, the closer to 1 the better the model describes the data. If R^2 is 1.000, it means that the model describes the data perfectly. However, there is a possibility that the model is overfitting the data, so it should be evaluated comprehensively with other evaluation metrics."
   ]
  },
  {
   "cell_type": "code",
   "execution_count": 46,
   "metadata": {},
   "outputs": [
    {
     "name": "stdout",
     "output_type": "stream",
     "text": [
      "Serial Number       0\n",
      "Total Cases         0\n",
      "Total Deaths        6\n",
      "Total Recovered    21\n",
      "Total Test         18\n",
      "Population          3\n",
      "dtype: int64\n"
     ]
    }
   ],
   "source": [
    "print(df.isna().sum())\n"
   ]
  },
  {
   "cell_type": "code",
   "execution_count": 47,
   "metadata": {},
   "outputs": [],
   "source": [
    "df.fillna(df.mean(), inplace=True)\n"
   ]
  },
  {
   "cell_type": "code",
   "execution_count": 49,
   "metadata": {},
   "outputs": [],
   "source": [
    "from sklearn.preprocessing import StandardScaler\n",
    "\n",
    "scaler = StandardScaler()\n",
    "numeric_cols = ['Total Cases', 'Total Deaths', 'Total Recovered','Total Test', 'Population']\n",
    "df[numeric_cols] = scaler.fit_transform(df[numeric_cols])\n"
   ]
  },
  {
   "cell_type": "code",
   "execution_count": 51,
   "metadata": {},
   "outputs": [
    {
     "name": "stderr",
     "output_type": "stream",
     "text": [
      "/var/folders/lv/7610qpn914q0338lz1vcxgfr0000gn/T/ipykernel_86289/389447783.py:18: FutureWarning: Dropping of nuisance columns in DataFrame reductions (with 'numeric_only=None') is deprecated; in a future version this will raise TypeError.  Select only valid columns before calling the reduction.\n",
      "  df.fillna(df.mean(), inplace=True)\n"
     ]
    },
    {
     "data": {
      "image/png": "[encoded data removed]",
      "text/plain": [
       "<Figure size 640x480 with 1 Axes>"
      ]
     },
     "metadata": {},
     "output_type": "display_data"
    }
   ],
   "source": [
    "import pandas as pd\n",
    "from sklearn.preprocessing import StandardScaler\n",
    "from sklearn.cluster import KMeans\n",
    "import matplotlib.pyplot as plt\n",
    "\n",
    "df = pd.read_csv('covid_worldwide.csv')\n",
    "\n",
    "df['Total Cases'] = df['Total Cases'].str.replace(',', '').astype(float)\n",
    "df['Total Deaths'] = df['Total Deaths'].str.replace(',', '').astype(float)\n",
    "df['Total Recovered'] = df['Total Recovered'].str.replace(',', '').astype(float)\n",
    "df['Active Cases'] = df['Active Cases'].str.replace(',', '').astype(float)\n",
    "df['Total Test'] = df['Total Test'].str.replace(',', '').astype(float)\n",
    "df['Population'] = df['Population'].str.replace(',', '').astype(float)\n",
    "\n",
    "df.fillna(df.mean(), inplace=True)\n",
    "\n",
    "scaler = StandardScaler()\n",
    "numeric_cols = ['Total Cases', 'Total Deaths', 'Total Recovered', 'Active Cases', 'Total Test', 'Population']\n",
    "df[numeric_cols] = scaler.fit_transform(df[numeric_cols])\n",
    "\n",
    "kmeans = KMeans(n_clusters=3, random_state=42)\n",
    "clusters = kmeans.fit_predict(df[numeric_cols])\n",
    "\n",
    "plt.scatter(df['Total Cases'], df['Total Deaths'], c=clusters, cmap='viridis')\n",
    "plt.xlabel('Total Cases (normalized)')\n",
    "plt.ylabel('Total Deaths (normalized)')\n",
    "plt.title('K-means Clustering of COVID-19 Countries')\n",
    "plt.show()\n"
   ]
  },
  {
   "cell_type": "markdown",
   "metadata": {},
   "source": [
    "# Task 2 - Identify the correlation of GDP and number of cases"
   ]
  },
  {
   "cell_type": "code",
   "execution_count": 3,
   "metadata": {},
   "outputs": [],
   "source": [
    "import numpy as np\n",
    "import pandas as pd\n",
    "import seaborn as sns\n",
    "import matplotlib.pyplot as plt"
   ]
  },
  {
   "cell_type": "code",
   "execution_count": 6,
   "metadata": {},
   "outputs": [],
   "source": [
    "df = pd.read_csv('dataset/owid-covid-data.csv')"
   ]
  },
  {
   "cell_type": "code",
   "execution_count": 7,
   "metadata": {},
   "outputs": [
    {
     "data": {
      "text/html": [
       "<div>\n",
       "<style scoped>\n",
       "    .dataframe tbody tr th:only-of-type {\n",
       "        vertical-align: middle;\n",
       "    }\n",
       "\n",
       "    .dataframe tbody tr th {\n",
       "        vertical-align: top;\n",
       "    }\n",
       "\n",
       "    .dataframe thead th {\n",
       "        text-align: right;\n",
       "    }\n",
       "</style>\n",
       "<table border=\"1\" class=\"dataframe\">\n",
       "  <thead>\n",
       "    <tr style=\"text-align: right;\">\n",
       "      <th></th>\n",
       "      <th>iso_code</th>\n",
       "      <th>continent</th>\n",
       "      <th>location</th>\n",
       "      <th>date</th>\n",
       "      <th>total_cases</th>\n",
       "      <th>new_cases</th>\n",
       "      <th>new_cases_smoothed</th>\n",
       "      <th>total_deaths</th>\n",
       "      <th>new_deaths</th>\n",
       "      <th>new_deaths_smoothed</th>\n",
       "      <th>...</th>\n",
       "      <th>male_smokers</th>\n",
       "      <th>handwashing_facilities</th>\n",
       "      <th>hospital_beds_per_thousand</th>\n",
       "      <th>life_expectancy</th>\n",
       "      <th>human_development_index</th>\n",
       "      <th>population</th>\n",
       "      <th>excess_mortality_cumulative_absolute</th>\n",
       "      <th>excess_mortality_cumulative</th>\n",
       "      <th>excess_mortality</th>\n",
       "      <th>excess_mortality_cumulative_per_million</th>\n",
       "    </tr>\n",
       "  </thead>\n",
       "  <tbody>\n",
       "    <tr>\n",
       "      <th>0</th>\n",
       "      <td>AFG</td>\n",
       "      <td>Asia</td>\n",
       "      <td>Afghanistan</td>\n",
       "      <td>2020-01-03</td>\n",
       "      <td>NaN</td>\n",
       "      <td>0.0</td>\n",
       "      <td>NaN</td>\n",
       "      <td>NaN</td>\n",
       "      <td>0.0</td>\n",
       "      <td>NaN</td>\n",
       "      <td>...</td>\n",
       "      <td>NaN</td>\n",
       "      <td>37.746</td>\n",
       "      <td>0.5</td>\n",
       "      <td>64.83</td>\n",
       "      <td>0.511</td>\n",
       "      <td>41128772.0</td>\n",
       "      <td>NaN</td>\n",
       "      <td>NaN</td>\n",
       "      <td>NaN</td>\n",
       "      <td>NaN</td>\n",
       "    </tr>\n",
       "    <tr>\n",
       "      <th>1</th>\n",
       "      <td>AFG</td>\n",
       "      <td>Asia</td>\n",
       "      <td>Afghanistan</td>\n",
       "      <td>2020-01-04</td>\n",
       "      <td>NaN</td>\n",
       "      <td>0.0</td>\n",
       "      <td>NaN</td>\n",
       "      <td>NaN</td>\n",
       "      <td>0.0</td>\n",
       "      <td>NaN</td>\n",
       "      <td>...</td>\n",
       "      <td>NaN</td>\n",
       "      <td>37.746</td>\n",
       "      <td>0.5</td>\n",
       "      <td>64.83</td>\n",
       "      <td>0.511</td>\n",
       "      <td>41128772.0</td>\n",
       "      <td>NaN</td>\n",
       "      <td>NaN</td>\n",
       "      <td>NaN</td>\n",
       "      <td>NaN</td>\n",
       "    </tr>\n",
       "    <tr>\n",
       "      <th>2</th>\n",
       "      <td>AFG</td>\n",
       "      <td>Asia</td>\n",
       "      <td>Afghanistan</td>\n",
       "      <td>2020-01-05</td>\n",
       "      <td>NaN</td>\n",
       "      <td>0.0</td>\n",
       "      <td>NaN</td>\n",
       "      <td>NaN</td>\n",
       "      <td>0.0</td>\n",
       "      <td>NaN</td>\n",
       "      <td>...</td>\n",
       "      <td>NaN</td>\n",
       "      <td>37.746</td>\n",
       "      <td>0.5</td>\n",
       "      <td>64.83</td>\n",
       "      <td>0.511</td>\n",
       "      <td>41128772.0</td>\n",
       "      <td>NaN</td>\n",
       "      <td>NaN</td>\n",
       "      <td>NaN</td>\n",
       "      <td>NaN</td>\n",
       "    </tr>\n",
       "    <tr>\n",
       "      <th>3</th>\n",
       "      <td>AFG</td>\n",
       "      <td>Asia</td>\n",
       "      <td>Afghanistan</td>\n",
       "      <td>2020-01-06</td>\n",
       "      <td>NaN</td>\n",
       "      <td>0.0</td>\n",
       "      <td>NaN</td>\n",
       "      <td>NaN</td>\n",
       "      <td>0.0</td>\n",
       "      <td>NaN</td>\n",
       "      <td>...</td>\n",
       "      <td>NaN</td>\n",
       "      <td>37.746</td>\n",
       "      <td>0.5</td>\n",
       "      <td>64.83</td>\n",
       "      <td>0.511</td>\n",
       "      <td>41128772.0</td>\n",
       "      <td>NaN</td>\n",
       "      <td>NaN</td>\n",
       "      <td>NaN</td>\n",
       "      <td>NaN</td>\n",
       "    </tr>\n",
       "    <tr>\n",
       "      <th>4</th>\n",
       "      <td>AFG</td>\n",
       "      <td>Asia</td>\n",
       "      <td>Afghanistan</td>\n",
       "      <td>2020-01-07</td>\n",
       "      <td>NaN</td>\n",
       "      <td>0.0</td>\n",
       "      <td>NaN</td>\n",
       "      <td>NaN</td>\n",
       "      <td>0.0</td>\n",
       "      <td>NaN</td>\n",
       "      <td>...</td>\n",
       "      <td>NaN</td>\n",
       "      <td>37.746</td>\n",
       "      <td>0.5</td>\n",
       "      <td>64.83</td>\n",
       "      <td>0.511</td>\n",
       "      <td>41128772.0</td>\n",
       "      <td>NaN</td>\n",
       "      <td>NaN</td>\n",
       "      <td>NaN</td>\n",
       "      <td>NaN</td>\n",
       "    </tr>\n",
       "  </tbody>\n",
       "</table>\n",
       "<p>5 rows × 67 columns</p>\n",
       "</div>"
      ],
      "text/plain": [
       "  iso_code continent     location        date  total_cases  new_cases  \\\n",
       "0      AFG      Asia  Afghanistan  2020-01-03          NaN        0.0   \n",
       "1      AFG      Asia  Afghanistan  2020-01-04          NaN        0.0   \n",
       "2      AFG      Asia  Afghanistan  2020-01-05          NaN        0.0   \n",
       "3      AFG      Asia  Afghanistan  2020-01-06          NaN        0.0   \n",
       "4      AFG      Asia  Afghanistan  2020-01-07          NaN        0.0   \n",
       "\n",
       "   new_cases_smoothed  total_deaths  new_deaths  new_deaths_smoothed  ...  \\\n",
       "0                 NaN           NaN         0.0                  NaN  ...   \n",
       "1                 NaN           NaN         0.0                  NaN  ...   \n",
       "2                 NaN           NaN         0.0                  NaN  ...   \n",
       "3                 NaN           NaN         0.0                  NaN  ...   \n",
       "4                 NaN           NaN         0.0                  NaN  ...   \n",
       "\n",
       "   male_smokers  handwashing_facilities  hospital_beds_per_thousand  \\\n",
       "0           NaN                  37.746                         0.5   \n",
       "1           NaN                  37.746                         0.5   \n",
       "2           NaN                  37.746                         0.5   \n",
       "3           NaN                  37.746                         0.5   \n",
       "4           NaN                  37.746                         0.5   \n",
       "\n",
       "   life_expectancy  human_development_index  population  \\\n",
       "0            64.83                    0.511  41128772.0   \n",
       "1            64.83                    0.511  41128772.0   \n",
       "2            64.83                    0.511  41128772.0   \n",
       "3            64.83                    0.511  41128772.0   \n",
       "4            64.83                    0.511  41128772.0   \n",
       "\n",
       "   excess_mortality_cumulative_absolute  excess_mortality_cumulative  \\\n",
       "0                                   NaN                          NaN   \n",
       "1                                   NaN                          NaN   \n",
       "2                                   NaN                          NaN   \n",
       "3                                   NaN                          NaN   \n",
       "4                                   NaN                          NaN   \n",
       "\n",
       "   excess_mortality  excess_mortality_cumulative_per_million  \n",
       "0               NaN                                      NaN  \n",
       "1               NaN                                      NaN  \n",
       "2               NaN                                      NaN  \n",
       "3               NaN                                      NaN  \n",
       "4               NaN                                      NaN  \n",
       "\n",
       "[5 rows x 67 columns]"
      ]
     },
     "execution_count": 7,
     "metadata": {},
     "output_type": "execute_result"
    }
   ],
   "source": [
    "df.head()"
   ]
  },
  {
   "cell_type": "code",
   "execution_count": 8,
   "metadata": {},
   "outputs": [
    {
     "name": "stdout",
     "output_type": "stream",
     "text": [
      "<class 'pandas.core.frame.DataFrame'>\n",
      "RangeIndex: 302664 entries, 0 to 302663\n",
      "Data columns (total 67 columns):\n",
      " #   Column                                      Non-Null Count   Dtype  \n",
      "---  ------                                      --------------   -----  \n",
      " 0   iso_code                                    302664 non-null  object \n",
      " 1   continent                                   288277 non-null  object \n",
      " 2   location                                    302664 non-null  object \n",
      " 3   date                                        302664 non-null  object \n",
      " 4   total_cases                                 266771 non-null  float64\n",
      " 5   new_cases                                   294064 non-null  float64\n",
      " 6   new_cases_smoothed                          292800 non-null  float64\n",
      " 7   total_deaths                                246214 non-null  float64\n",
      " 8   new_deaths                                  294139 non-null  float64\n",
      " 9   new_deaths_smoothed                         292909 non-null  float64\n",
      " 10  total_cases_per_million                     266771 non-null  float64\n",
      " 11  new_cases_per_million                       294064 non-null  float64\n",
      " 12  new_cases_smoothed_per_million              292800 non-null  float64\n",
      " 13  total_deaths_per_million                    246214 non-null  float64\n",
      " 14  new_deaths_per_million                      294139 non-null  float64\n",
      " 15  new_deaths_smoothed_per_million             292909 non-null  float64\n",
      " 16  reproduction_rate                           184817 non-null  float64\n",
      " 17  icu_patients                                34836 non-null   float64\n",
      " 18  icu_patients_per_million                    34836 non-null   float64\n",
      " 19  hosp_patients                               35214 non-null   float64\n",
      " 20  hosp_patients_per_million                   35214 non-null   float64\n",
      " 21  weekly_icu_admissions                       9133 non-null    float64\n",
      " 22  weekly_icu_admissions_per_million           9133 non-null    float64\n",
      " 23  weekly_hosp_admissions                      21344 non-null   float64\n",
      " 24  weekly_hosp_admissions_per_million          21344 non-null   float64\n",
      " 25  total_tests                                 79387 non-null   float64\n",
      " 26  new_tests                                   75403 non-null   float64\n",
      " 27  total_tests_per_thousand                    79387 non-null   float64\n",
      " 28  new_tests_per_thousand                      75403 non-null   float64\n",
      " 29  new_tests_smoothed                          103965 non-null  float64\n",
      " 30  new_tests_smoothed_per_thousand             103965 non-null  float64\n",
      " 31  positive_rate                               95927 non-null   float64\n",
      " 32  tests_per_case                              94348 non-null   float64\n",
      " 33  tests_units                                 106788 non-null  object \n",
      " 34  total_vaccinations                          73702 non-null   float64\n",
      " 35  people_vaccinated                           70549 non-null   float64\n",
      " 36  people_fully_vaccinated                     68289 non-null   float64\n",
      " 37  total_boosters                              42441 non-null   float64\n",
      " 38  new_vaccinations                            60673 non-null   float64\n",
      " 39  new_vaccinations_smoothed                   163913 non-null  float64\n",
      " 40  total_vaccinations_per_hundred              73702 non-null   float64\n",
      " 41  people_vaccinated_per_hundred               70549 non-null   float64\n",
      " 42  people_fully_vaccinated_per_hundred         68289 non-null   float64\n",
      " 43  total_boosters_per_hundred                  42441 non-null   float64\n",
      " 44  new_vaccinations_smoothed_per_million       163913 non-null  float64\n",
      " 45  new_people_vaccinated_smoothed              163989 non-null  float64\n",
      " 46  new_people_vaccinated_smoothed_per_hundred  163989 non-null  float64\n",
      " 47  stringency_index                            193194 non-null  float64\n",
      " 48  population_density                          256798 non-null  float64\n",
      " 49  median_age                                  238850 non-null  float64\n",
      " 50  aged_65_older                               230486 non-null  float64\n",
      " 51  aged_70_older                               236454 non-null  float64\n",
      " 52  gdp_per_capita                              234071 non-null  float64\n",
      " 53  extreme_poverty                             150756 non-null  float64\n",
      " 54  cardiovasc_death_rate                       234488 non-null  float64\n",
      " 55  diabetes_prevalence                         246435 non-null  float64\n",
      " 56  female_smokers                              175893 non-null  float64\n",
      " 57  male_smokers                                173500 non-null  float64\n",
      " 58  handwashing_facilities                      114837 non-null  float64\n",
      " 59  hospital_beds_per_thousand                  206989 non-null  float64\n",
      " 60  life_expectancy                             278318 non-null  float64\n",
      " 61  human_development_index                     227297 non-null  float64\n",
      " 62  population                                  302664 non-null  float64\n",
      " 63  excess_mortality_cumulative_absolute        10295 non-null   float64\n",
      " 64  excess_mortality_cumulative                 10295 non-null   float64\n",
      " 65  excess_mortality                            10295 non-null   float64\n",
      " 66  excess_mortality_cumulative_per_million     10295 non-null   float64\n",
      "dtypes: float64(62), object(5)\n",
      "memory usage: 154.7+ MB\n"
     ]
    }
   ],
   "source": [
    "df.info()"
   ]
  },
  {
   "cell_type": "code",
   "execution_count": 9,
   "metadata": {},
   "outputs": [],
   "source": [
    "df = df.loc[:, ['gdp_per_capita', 'location', 'total_cases']]\n",
    "df = df.sample(frac = 1)\n",
    "df = df.drop(df[df['location'] == 'World'].index)\n",
    "df = df.drop_duplicates(subset=['location'])\n",
    "df = df.dropna()"
   ]
  },
  {
   "cell_type": "code",
   "execution_count": 10,
   "metadata": {},
   "outputs": [
    {
     "data": {
      "text/html": [
       "<div>\n",
       "<style scoped>\n",
       "    .dataframe tbody tr th:only-of-type {\n",
       "        vertical-align: middle;\n",
       "    }\n",
       "\n",
       "    .dataframe tbody tr th {\n",
       "        vertical-align: top;\n",
       "    }\n",
       "\n",
       "    .dataframe thead th {\n",
       "        text-align: right;\n",
       "    }\n",
       "</style>\n",
       "<table border=\"1\" class=\"dataframe\">\n",
       "  <thead>\n",
       "    <tr style=\"text-align: right;\">\n",
       "      <th></th>\n",
       "      <th>gdp_per_capita</th>\n",
       "      <th>location</th>\n",
       "      <th>total_cases</th>\n",
       "    </tr>\n",
       "  </thead>\n",
       "  <tbody>\n",
       "    <tr>\n",
       "      <th>53307</th>\n",
       "      <td>15308.712</td>\n",
       "      <td>China</td>\n",
       "      <td>125565.0</td>\n",
       "    </tr>\n",
       "    <tr>\n",
       "      <th>178537</th>\n",
       "      <td>7485.013</td>\n",
       "      <td>Morocco</td>\n",
       "      <td>1124986.0</td>\n",
       "    </tr>\n",
       "    <tr>\n",
       "      <th>205725</th>\n",
       "      <td>13240.405</td>\n",
       "      <td>Palau</td>\n",
       "      <td>5460.0</td>\n",
       "    </tr>\n",
       "    <tr>\n",
       "      <th>24016</th>\n",
       "      <td>17167.967</td>\n",
       "      <td>Belarus</td>\n",
       "      <td>76.0</td>\n",
       "    </tr>\n",
       "    <tr>\n",
       "      <th>300515</th>\n",
       "      <td>3689.251</td>\n",
       "      <td>Zambia</td>\n",
       "      <td>12381.0</td>\n",
       "    </tr>\n",
       "  </tbody>\n",
       "</table>\n",
       "</div>"
      ],
      "text/plain": [
       "        gdp_per_capita location  total_cases\n",
       "53307        15308.712    China     125565.0\n",
       "178537        7485.013  Morocco    1124986.0\n",
       "205725       13240.405    Palau       5460.0\n",
       "24016        17167.967  Belarus         76.0\n",
       "300515        3689.251   Zambia      12381.0"
      ]
     },
     "execution_count": 10,
     "metadata": {},
     "output_type": "execute_result"
    }
   ],
   "source": [
    "df.head()"
   ]
  },
  {
   "cell_type": "code",
   "execution_count": 11,
   "metadata": {},
   "outputs": [
    {
     "data": {
      "text/plain": [
       "gdp_per_capita    0\n",
       "location          0\n",
       "total_cases       0\n",
       "dtype: int64"
      ]
     },
     "execution_count": 11,
     "metadata": {},
     "output_type": "execute_result"
    }
   ],
   "source": [
    "df.isnull().sum()"
   ]
  },
  {
   "cell_type": "code",
   "execution_count": 12,
   "metadata": {},
   "outputs": [
    {
     "data": {
      "text/html": [
       "<div>\n",
       "<style scoped>\n",
       "    .dataframe tbody tr th:only-of-type {\n",
       "        vertical-align: middle;\n",
       "    }\n",
       "\n",
       "    .dataframe tbody tr th {\n",
       "        vertical-align: top;\n",
       "    }\n",
       "\n",
       "    .dataframe thead th {\n",
       "        text-align: right;\n",
       "    }\n",
       "</style>\n",
       "<table border=\"1\" class=\"dataframe\">\n",
       "  <thead>\n",
       "    <tr style=\"text-align: right;\">\n",
       "      <th></th>\n",
       "      <th>gdp_per_capita</th>\n",
       "      <th>total_cases</th>\n",
       "    </tr>\n",
       "  </thead>\n",
       "  <tbody>\n",
       "    <tr>\n",
       "      <th>53307</th>\n",
       "      <td>15308.712</td>\n",
       "      <td>125565.0</td>\n",
       "    </tr>\n",
       "    <tr>\n",
       "      <th>178537</th>\n",
       "      <td>7485.013</td>\n",
       "      <td>1124986.0</td>\n",
       "    </tr>\n",
       "    <tr>\n",
       "      <th>205725</th>\n",
       "      <td>13240.405</td>\n",
       "      <td>5460.0</td>\n",
       "    </tr>\n",
       "    <tr>\n",
       "      <th>24016</th>\n",
       "      <td>17167.967</td>\n",
       "      <td>76.0</td>\n",
       "    </tr>\n",
       "    <tr>\n",
       "      <th>300515</th>\n",
       "      <td>3689.251</td>\n",
       "      <td>12381.0</td>\n",
       "    </tr>\n",
       "  </tbody>\n",
       "</table>\n",
       "</div>"
      ],
      "text/plain": [
       "        gdp_per_capita  total_cases\n",
       "53307        15308.712     125565.0\n",
       "178537        7485.013    1124986.0\n",
       "205725       13240.405       5460.0\n",
       "24016        17167.967         76.0\n",
       "300515        3689.251      12381.0"
      ]
     },
     "execution_count": 12,
     "metadata": {},
     "output_type": "execute_result"
    }
   ],
   "source": [
    "from sklearn.preprocessing import MinMaxScaler\n",
    "\n",
    "df1 = df[['gdp_per_capita', 'total_cases']]\n",
    "df1.head()"
   ]
  },
  {
   "cell_type": "code",
   "execution_count": 13,
   "metadata": {},
   "outputs": [],
   "source": [
    "scaler = MinMaxScaler()\n",
    "df1_normalized = pd.DataFrame(scaler.fit_transform(df1), columns=df1.columns)"
   ]
  },
  {
   "cell_type": "markdown",
   "metadata": {},
   "source": [
    "### Data Visualization"
   ]
  },
  {
   "cell_type": "code",
   "execution_count": 14,
   "metadata": {},
   "outputs": [
    {
     "data": {
      "text/html": [
       "<img src=\"tableau_task2.png\"/>"
      ],
      "text/plain": [
       "<IPython.core.display.Image object>"
      ]
     },
     "execution_count": 14,
     "metadata": {},
     "output_type": "execute_result"
    }
   ],
   "source": [
    "from IPython.display import Image\n",
    "img = 'tableau_task2.png'\n",
    "Image(url=img)"
   ]
  },
  {
   "cell_type": "markdown",
   "metadata": {},
   "source": [
    "### Data Modeling"
   ]
  },
  {
   "cell_type": "code",
   "execution_count": 15,
   "metadata": {},
   "outputs": [],
   "source": [
    "from sklearn.linear_model import LinearRegression"
   ]
  },
  {
   "cell_type": "code",
   "execution_count": 16,
   "metadata": {
    "scrolled": false
   },
   "outputs": [
    {
     "name": "stdout",
     "output_type": "stream",
     "text": [
      "Regression model slope:     [34.24361259]\n",
      "Regression model intercept: 980289.9974273739\n"
     ]
    },
    {
     "name": "stderr",
     "output_type": "stream",
     "text": [
      "/var/folders/y7/w5jvctms1cj6hxymq1tzq5l40000gn/T/ipykernel_69705/3081198468.py:6: FutureWarning: Support for multi-dimensional indexing (e.g. `obj[:, None]`) is deprecated and will be removed in a future version.  Convert to a numpy array before indexing instead.\n",
      "  model.fit(X[:, np.newaxis], y)\n"
     ]
    },
    {
     "data": {
      "text/plain": [
       "[<matplotlib.lines.Line2D at 0x7f87bb8dfb80>]"
      ]
     },
     "execution_count": 16,
     "metadata": {},
     "output_type": "execute_result"
    },
    {
     "data": {
      "image/png": "[encoded data removed]",
      "text/plain": [
       "<Figure size 640x480 with 1 Axes>"
      ]
     },
     "metadata": {},
     "output_type": "display_data"
    }
   ],
   "source": [
    "X = df1['gdp_per_capita']\n",
    "y = df1['total_cases']\n",
    "\n",
    "model = LinearRegression(fit_intercept=True)\n",
    "\n",
    "model.fit(X[:, np.newaxis], y)\n",
    "\n",
    "xfit = np.array([X.min(), X.max()])\n",
    "yfit = model.predict(xfit[:, np.newaxis])\n",
    "\n",
    "print(\"Regression model slope:    \", model.coef_)\n",
    "print(\"Regression model intercept:\", model.intercept_)\n",
    "plt.scatter(X, y)\n",
    "plt.plot(xfit, yfit)"
   ]
  },
  {
   "cell_type": "markdown",
   "metadata": {},
   "source": [
    "# Task 3 - Identifying the relationship between Covid-19 and Districts, try to predict the pattern of cases in the districts\n"
   ]
  },
  {
   "cell_type": "markdown",
   "metadata": {},
   "source": [
    "# Treat the data first for classification"
   ]
  },
  {
   "cell_type": "code",
   "execution_count": 48,
   "metadata": {},
   "outputs": [],
   "source": [
    "import pandas as pd\n",
    "import numpy as np\n",
    "import matplotlib.pyplot as plt\n",
    "from sklearn.cluster import KMeans\n"
   ]
  },
  {
   "cell_type": "code",
   "execution_count": 38,
   "metadata": {
    "scrolled": false
   },
   "outputs": [
    {
     "name": "stdout",
     "output_type": "stream",
     "text": [
      "Collecting geopandas\n",
      "  Downloading geopandas-0.12.2-py3-none-any.whl (1.1 MB)\n",
      "     ---------------------------------------- 1.1/1.1 MB 9.6 MB/s eta 0:00:00\n",
      "Collecting shapely>=1.7\n",
      "  Downloading shapely-2.0.1-cp39-cp39-win_amd64.whl (1.4 MB)\n",
      "     ---------------------------------------- 1.4/1.4 MB 8.7 MB/s eta 0:00:00\n",
      "Requirement already satisfied: pandas>=1.0.0 in c:\\users\\cyrus\\anaconda3\\lib\\site-packages (from geopandas) (1.4.4)\n",
      "Collecting fiona>=1.8\n",
      "  Downloading Fiona-1.9.3-cp39-cp39-win_amd64.whl (22.0 MB)\n",
      "     ---------------------------------------- 22.0/22.0 MB 6.5 MB/s eta 0:00:00\n",
      "Collecting pyproj>=2.6.1.post1\n",
      "  Downloading pyproj-3.5.0-cp39-cp39-win_amd64.whl (5.1 MB)\n",
      "     ---------------------------------------- 5.1/5.1 MB 8.1 MB/s eta 0:00:00\n",
      "Requirement already satisfied: packaging in c:\\users\\cyrus\\anaconda3\\lib\\site-packages (from geopandas) (21.3)\n",
      "Requirement already satisfied: attrs>=19.2.0 in c:\\users\\cyrus\\anaconda3\\lib\\site-packages (from fiona>=1.8->geopandas) (21.4.0)\n",
      "Requirement already satisfied: click~=8.0 in c:\\users\\cyrus\\anaconda3\\lib\\site-packages (from fiona>=1.8->geopandas) (8.0.4)\n",
      "Requirement already satisfied: certifi in c:\\users\\cyrus\\anaconda3\\lib\\site-packages (from fiona>=1.8->geopandas) (2022.9.14)\n",
      "Collecting munch>=2.3.2\n",
      "  Downloading munch-2.5.0-py2.py3-none-any.whl (10 kB)\n",
      "Collecting click-plugins>=1.0\n",
      "  Downloading click_plugins-1.1.1-py2.py3-none-any.whl (7.5 kB)\n",
      "Requirement already satisfied: importlib-metadata in c:\\users\\cyrus\\anaconda3\\lib\\site-packages (from fiona>=1.8->geopandas) (4.11.3)\n",
      "Collecting cligj>=0.5\n",
      "  Downloading cligj-0.7.2-py3-none-any.whl (7.1 kB)\n",
      "Requirement already satisfied: python-dateutil>=2.8.1 in c:\\users\\cyrus\\anaconda3\\lib\\site-packages (from pandas>=1.0.0->geopandas) (2.8.2)\n",
      "Requirement already satisfied: numpy>=1.18.5 in c:\\users\\cyrus\\anaconda3\\lib\\site-packages (from pandas>=1.0.0->geopandas) (1.21.5)\n",
      "Requirement already satisfied: pytz>=2020.1 in c:\\users\\cyrus\\anaconda3\\lib\\site-packages (from pandas>=1.0.0->geopandas) (2022.1)\n",
      "Requirement already satisfied: pyparsing!=3.0.5,>=2.0.2 in c:\\users\\cyrus\\anaconda3\\lib\\site-packages (from packaging->geopandas) (3.0.9)\n",
      "Requirement already satisfied: colorama in c:\\users\\cyrus\\anaconda3\\lib\\site-packages (from click~=8.0->fiona>=1.8->geopandas) (0.4.5)\n",
      "Requirement already satisfied: six in c:\\users\\cyrus\\anaconda3\\lib\\site-packages (from munch>=2.3.2->fiona>=1.8->geopandas) (1.16.0)\n",
      "Requirement already satisfied: zipp>=0.5 in c:\\users\\cyrus\\anaconda3\\lib\\site-packages (from importlib-metadata->fiona>=1.8->geopandas) (3.8.0)\n",
      "Installing collected packages: shapely, pyproj, munch, cligj, click-plugins, fiona, geopandas\n",
      "Successfully installed click-plugins-1.1.1 cligj-0.7.2 fiona-1.9.3 geopandas-0.12.2 munch-2.5.0 pyproj-3.5.0 shapely-2.0.1\n"
     ]
    },
    {
     "data": {
      "text/plain": [
       "<AxesSubplot:>"
      ]
     },
     "execution_count": 38,
     "metadata": {},
     "output_type": "execute_result"
    },
    {
     "data": {
      "image/png": "[encoded data removed]",
      "text/plain": [
       "<Figure size 640x480 with 1 Axes>"
      ]
     },
     "metadata": {},
     "output_type": "display_data"
    }
   ],
   "source": [
    "!pip install geopandas\n",
    "import geopandas as geo\n",
    "geop = geo.read_file('Hong_Kong_18_Districts.geojson')\n",
    "geop.plot(color = 'blue', edgecolor = 'black')"
   ]
  },
  {
   "cell_type": "code",
   "execution_count": 49,
   "metadata": {},
   "outputs": [
    {
     "data": {
      "text/html": [
       "<div>\n",
       "<style scoped>\n",
       "    .dataframe tbody tr th:only-of-type {\n",
       "        vertical-align: middle;\n",
       "    }\n",
       "\n",
       "    .dataframe tbody tr th {\n",
       "        vertical-align: top;\n",
       "    }\n",
       "\n",
       "    .dataframe thead th {\n",
       "        text-align: right;\n",
       "    }\n",
       "</style>\n",
       "<table border=\"1\" class=\"dataframe\">\n",
       "  <thead>\n",
       "    <tr style=\"text-align: right;\">\n",
       "      <th></th>\n",
       "      <th>OBJECTID</th>\n",
       "      <th>OBJECTID_1</th>\n",
       "      <th>DISTRICT_EN</th>\n",
       "      <th>DISTRICT_TC</th>\n",
       "      <th>BLDGNAME_EN</th>\n",
       "      <th>BLDGNAME_TC</th>\n",
       "      <th>END_DATE</th>\n",
       "      <th>EASTING</th>\n",
       "      <th>NORTHING</th>\n",
       "      <th>UPDATE_DATE</th>\n",
       "      <th>geometry</th>\n",
       "    </tr>\n",
       "  </thead>\n",
       "  <tbody>\n",
       "    <tr>\n",
       "      <th>0</th>\n",
       "      <td>1</td>\n",
       "      <td>62718</td>\n",
       "      <td>North</td>\n",
       "      <td>北區</td>\n",
       "      <td>NO.3 KA FU CLOSE</td>\n",
       "      <td>嘉富坊3號</td>\n",
       "      <td>2020-03-21</td>\n",
       "      <td>830684</td>\n",
       "      <td>840878</td>\n",
       "      <td>2020-03-14</td>\n",
       "      <td>POINT Z (114.12260 22.50753 0.00000)</td>\n",
       "    </tr>\n",
       "    <tr>\n",
       "      <th>1</th>\n",
       "      <td>2</td>\n",
       "      <td>62720</td>\n",
       "      <td>North</td>\n",
       "      <td>北區</td>\n",
       "      <td>BLOCK 1, VIENNA GARDEN</td>\n",
       "      <td>維也納花園1座</td>\n",
       "      <td>2020-03-21</td>\n",
       "      <td>831478</td>\n",
       "      <td>839589</td>\n",
       "      <td>2020-03-14</td>\n",
       "      <td>POINT Z (114.13032 22.49589 0.00000)</td>\n",
       "    </tr>\n",
       "    <tr>\n",
       "      <th>2</th>\n",
       "      <td>3</td>\n",
       "      <td>62721</td>\n",
       "      <td>North</td>\n",
       "      <td>北區</td>\n",
       "      <td>LOK FUNG BUILDING</td>\n",
       "      <td>樂豐樓</td>\n",
       "      <td>2020-03-21</td>\n",
       "      <td>832770</td>\n",
       "      <td>839959</td>\n",
       "      <td>2020-03-14</td>\n",
       "      <td>POINT Z (114.14288 22.49924 0.00000)</td>\n",
       "    </tr>\n",
       "    <tr>\n",
       "      <th>3</th>\n",
       "      <td>4</td>\n",
       "      <td>62722</td>\n",
       "      <td>North</td>\n",
       "      <td>北區</td>\n",
       "      <td>NO.10 LUNG SUM AVENUE</td>\n",
       "      <td>龍琛路10號</td>\n",
       "      <td>2020-03-21</td>\n",
       "      <td>831427</td>\n",
       "      <td>840466</td>\n",
       "      <td>2020-03-14</td>\n",
       "      <td>POINT Z (114.12983 22.50381 0.00000)</td>\n",
       "    </tr>\n",
       "    <tr>\n",
       "      <th>4</th>\n",
       "      <td>5</td>\n",
       "      <td>62723</td>\n",
       "      <td>North</td>\n",
       "      <td>北區</td>\n",
       "      <td>LO WU STATION ROAD</td>\n",
       "      <td>羅湖道</td>\n",
       "      <td>2020-03-21</td>\n",
       "      <td>830194</td>\n",
       "      <td>842843</td>\n",
       "      <td>2020-03-14</td>\n",
       "      <td>POINT Z (114.11783 22.52528 0.00000)</td>\n",
       "    </tr>\n",
       "    <tr>\n",
       "      <th>...</th>\n",
       "      <td>...</td>\n",
       "      <td>...</td>\n",
       "      <td>...</td>\n",
       "      <td>...</td>\n",
       "      <td>...</td>\n",
       "      <td>...</td>\n",
       "      <td>...</td>\n",
       "      <td>...</td>\n",
       "      <td>...</td>\n",
       "      <td>...</td>\n",
       "      <td>...</td>\n",
       "    </tr>\n",
       "    <tr>\n",
       "      <th>92013</th>\n",
       "      <td>92014</td>\n",
       "      <td>76926</td>\n",
       "      <td>Shatin</td>\n",
       "      <td>沙田</td>\n",
       "      <td>BLOCK E, MOSTOWN (PHASE 4), SUNSHINE CITY</td>\n",
       "      <td>新港城(4期)E座</td>\n",
       "      <td>2020-03-14</td>\n",
       "      <td>841990</td>\n",
       "      <td>831696</td>\n",
       "      <td>2020-03-15</td>\n",
       "      <td>POINT Z (114.23245 22.42461 0.00000)</td>\n",
       "    </tr>\n",
       "    <tr>\n",
       "      <th>92014</th>\n",
       "      <td>92015</td>\n",
       "      <td>77628</td>\n",
       "      <td>Sai Kung</td>\n",
       "      <td>西貢</td>\n",
       "      <td>SHEUNG YAN HOUSE, SHEUNG TAK ESTATE</td>\n",
       "      <td>尚德邨尚仁樓</td>\n",
       "      <td>2020-03-10</td>\n",
       "      <td>844619</td>\n",
       "      <td>819154</td>\n",
       "      <td>2020-03-15</td>\n",
       "      <td>POINT Z (114.25792 22.31134 0.00000)</td>\n",
       "    </tr>\n",
       "    <tr>\n",
       "      <th>92015</th>\n",
       "      <td>92016</td>\n",
       "      <td>78260</td>\n",
       "      <td>Islands</td>\n",
       "      <td>離島</td>\n",
       "      <td>GREENVALE VILLAGE, GREENERY COURT, DISCOVERY BAY</td>\n",
       "      <td>愉景灣頤峰靖山閣</td>\n",
       "      <td>2020-03-15</td>\n",
       "      <td>819109</td>\n",
       "      <td>818246</td>\n",
       "      <td>2020-03-15</td>\n",
       "      <td>POINT Z (114.01035 22.30308 0.00000)</td>\n",
       "    </tr>\n",
       "    <tr>\n",
       "      <th>92016</th>\n",
       "      <td>92017</td>\n",
       "      <td>79242</td>\n",
       "      <td>Eastern</td>\n",
       "      <td>東區</td>\n",
       "      <td>BLOCK 1, ISLAND RESORT, NO.28 SIU SAI WAN ROAD</td>\n",
       "      <td>小西灣道28號藍灣半島1座</td>\n",
       "      <td>2020-03-14</td>\n",
       "      <td>843831</td>\n",
       "      <td>814200</td>\n",
       "      <td>2020-03-18</td>\n",
       "      <td>POINT Z (114.25025 22.26661 0.00000)</td>\n",
       "    </tr>\n",
       "    <tr>\n",
       "      <th>92017</th>\n",
       "      <td>92018</td>\n",
       "      <td>61041</td>\n",
       "      <td>Yuen Long</td>\n",
       "      <td>元朗</td>\n",
       "      <td>BLOCK 2, HO SHUN LEE BUILDING, NO.9 FUNG YAU S...</td>\n",
       "      <td>元朗 鳳攸南街9號好順利大廈2座</td>\n",
       "      <td>2020-03-13</td>\n",
       "      <td>821650</td>\n",
       "      <td>833626</td>\n",
       "      <td>2020-03-14</td>\n",
       "      <td>POINT Z (114.03487 22.44199 0.00000)</td>\n",
       "    </tr>\n",
       "  </tbody>\n",
       "</table>\n",
       "<p>92018 rows × 11 columns</p>\n",
       "</div>"
      ],
      "text/plain": [
       "       OBJECTID  OBJECTID_1 DISTRICT_EN DISTRICT_TC  \\\n",
       "0             1       62718       North          北區   \n",
       "1             2       62720       North          北區   \n",
       "2             3       62721       North          北區   \n",
       "3             4       62722       North          北區   \n",
       "4             5       62723       North          北區   \n",
       "...         ...         ...         ...         ...   \n",
       "92013     92014       76926      Shatin          沙田   \n",
       "92014     92015       77628    Sai Kung          西貢   \n",
       "92015     92016       78260     Islands          離島   \n",
       "92016     92017       79242     Eastern          東區   \n",
       "92017     92018       61041   Yuen Long          元朗   \n",
       "\n",
       "                                             BLDGNAME_EN       BLDGNAME_TC  \\\n",
       "0                                       NO.3 KA FU CLOSE             嘉富坊3號   \n",
       "1                                 BLOCK 1, VIENNA GARDEN           維也納花園1座   \n",
       "2                                      LOK FUNG BUILDING               樂豐樓   \n",
       "3                                  NO.10 LUNG SUM AVENUE            龍琛路10號   \n",
       "4                                     LO WU STATION ROAD               羅湖道   \n",
       "...                                                  ...               ...   \n",
       "92013          BLOCK E, MOSTOWN (PHASE 4), SUNSHINE CITY         新港城(4期)E座   \n",
       "92014                SHEUNG YAN HOUSE, SHEUNG TAK ESTATE            尚德邨尚仁樓   \n",
       "92015   GREENVALE VILLAGE, GREENERY COURT, DISCOVERY BAY          愉景灣頤峰靖山閣   \n",
       "92016     BLOCK 1, ISLAND RESORT, NO.28 SIU SAI WAN ROAD     小西灣道28號藍灣半島1座   \n",
       "92017  BLOCK 2, HO SHUN LEE BUILDING, NO.9 FUNG YAU S...  元朗 鳳攸南街9號好順利大廈2座   \n",
       "\n",
       "         END_DATE  EASTING  NORTHING UPDATE_DATE  \\\n",
       "0      2020-03-21   830684    840878  2020-03-14   \n",
       "1      2020-03-21   831478    839589  2020-03-14   \n",
       "2      2020-03-21   832770    839959  2020-03-14   \n",
       "3      2020-03-21   831427    840466  2020-03-14   \n",
       "4      2020-03-21   830194    842843  2020-03-14   \n",
       "...           ...      ...       ...         ...   \n",
       "92013  2020-03-14   841990    831696  2020-03-15   \n",
       "92014  2020-03-10   844619    819154  2020-03-15   \n",
       "92015  2020-03-15   819109    818246  2020-03-15   \n",
       "92016  2020-03-14   843831    814200  2020-03-18   \n",
       "92017  2020-03-13   821650    833626  2020-03-14   \n",
       "\n",
       "                                   geometry  \n",
       "0      POINT Z (114.12260 22.50753 0.00000)  \n",
       "1      POINT Z (114.13032 22.49589 0.00000)  \n",
       "2      POINT Z (114.14288 22.49924 0.00000)  \n",
       "3      POINT Z (114.12983 22.50381 0.00000)  \n",
       "4      POINT Z (114.11783 22.52528 0.00000)  \n",
       "...                                     ...  \n",
       "92013  POINT Z (114.23245 22.42461 0.00000)  \n",
       "92014  POINT Z (114.25792 22.31134 0.00000)  \n",
       "92015  POINT Z (114.01035 22.30308 0.00000)  \n",
       "92016  POINT Z (114.25025 22.26661 0.00000)  \n",
       "92017  POINT Z (114.03487 22.44199 0.00000)  \n",
       "\n",
       "[92018 rows x 11 columns]"
      ]
     },
     "execution_count": 49,
     "metadata": {},
     "output_type": "execute_result"
    }
   ],
   "source": [
    "df = geo.read_file('Building_of_Mandatory_Home_Quarantine_under_Cap_599C_in_Hong_Kong.geojson')\n",
    "df"
   ]
  },
  {
   "cell_type": "code",
   "execution_count": 50,
   "metadata": {},
   "outputs": [],
   "source": [
    "x = pd.DataFrame(gdf['geometry'].x, columns = ['x_coordinate'])"
   ]
  },
  {
   "cell_type": "code",
   "execution_count": 51,
   "metadata": {},
   "outputs": [
    {
     "data": {
      "text/html": [
       "<div>\n",
       "<style scoped>\n",
       "    .dataframe tbody tr th:only-of-type {\n",
       "        vertical-align: middle;\n",
       "    }\n",
       "\n",
       "    .dataframe tbody tr th {\n",
       "        vertical-align: top;\n",
       "    }\n",
       "\n",
       "    .dataframe thead th {\n",
       "        text-align: right;\n",
       "    }\n",
       "</style>\n",
       "<table border=\"1\" class=\"dataframe\">\n",
       "  <thead>\n",
       "    <tr style=\"text-align: right;\">\n",
       "      <th></th>\n",
       "      <th>x_coordinate</th>\n",
       "    </tr>\n",
       "  </thead>\n",
       "  <tbody>\n",
       "    <tr>\n",
       "      <th>0</th>\n",
       "      <td>114.122603</td>\n",
       "    </tr>\n",
       "    <tr>\n",
       "      <th>1</th>\n",
       "      <td>114.130324</td>\n",
       "    </tr>\n",
       "    <tr>\n",
       "      <th>2</th>\n",
       "      <td>114.142879</td>\n",
       "    </tr>\n",
       "    <tr>\n",
       "      <th>3</th>\n",
       "      <td>114.129826</td>\n",
       "    </tr>\n",
       "    <tr>\n",
       "      <th>4</th>\n",
       "      <td>114.117833</td>\n",
       "    </tr>\n",
       "    <tr>\n",
       "      <th>...</th>\n",
       "      <td>...</td>\n",
       "    </tr>\n",
       "    <tr>\n",
       "      <th>92013</th>\n",
       "      <td>114.232454</td>\n",
       "    </tr>\n",
       "    <tr>\n",
       "      <th>92014</th>\n",
       "      <td>114.257924</td>\n",
       "    </tr>\n",
       "    <tr>\n",
       "      <th>92015</th>\n",
       "      <td>114.010349</td>\n",
       "    </tr>\n",
       "    <tr>\n",
       "      <th>92016</th>\n",
       "      <td>114.250253</td>\n",
       "    </tr>\n",
       "    <tr>\n",
       "      <th>92017</th>\n",
       "      <td>114.034868</td>\n",
       "    </tr>\n",
       "  </tbody>\n",
       "</table>\n",
       "<p>92018 rows × 1 columns</p>\n",
       "</div>"
      ],
      "text/plain": [
       "       x_coordinate\n",
       "0        114.122603\n",
       "1        114.130324\n",
       "2        114.142879\n",
       "3        114.129826\n",
       "4        114.117833\n",
       "...             ...\n",
       "92013    114.232454\n",
       "92014    114.257924\n",
       "92015    114.010349\n",
       "92016    114.250253\n",
       "92017    114.034868\n",
       "\n",
       "[92018 rows x 1 columns]"
      ]
     },
     "execution_count": 51,
     "metadata": {},
     "output_type": "execute_result"
    }
   ],
   "source": [
    "x"
   ]
  },
  {
   "cell_type": "code",
   "execution_count": 52,
   "metadata": {},
   "outputs": [],
   "source": [
    "x['y_coordinate'] =  df['geometry'].y"
   ]
  },
  {
   "cell_type": "code",
   "execution_count": 53,
   "metadata": {},
   "outputs": [
    {
     "data": {
      "text/html": [
       "<div>\n",
       "<style scoped>\n",
       "    .dataframe tbody tr th:only-of-type {\n",
       "        vertical-align: middle;\n",
       "    }\n",
       "\n",
       "    .dataframe tbody tr th {\n",
       "        vertical-align: top;\n",
       "    }\n",
       "\n",
       "    .dataframe thead th {\n",
       "        text-align: right;\n",
       "    }\n",
       "</style>\n",
       "<table border=\"1\" class=\"dataframe\">\n",
       "  <thead>\n",
       "    <tr style=\"text-align: right;\">\n",
       "      <th></th>\n",
       "      <th>x_coordinate</th>\n",
       "      <th>y_coordinate</th>\n",
       "    </tr>\n",
       "  </thead>\n",
       "  <tbody>\n",
       "    <tr>\n",
       "      <th>0</th>\n",
       "      <td>114.122603</td>\n",
       "      <td>22.507532</td>\n",
       "    </tr>\n",
       "    <tr>\n",
       "      <th>1</th>\n",
       "      <td>114.130324</td>\n",
       "      <td>22.495894</td>\n",
       "    </tr>\n",
       "    <tr>\n",
       "      <th>2</th>\n",
       "      <td>114.142879</td>\n",
       "      <td>22.499239</td>\n",
       "    </tr>\n",
       "    <tr>\n",
       "      <th>3</th>\n",
       "      <td>114.129826</td>\n",
       "      <td>22.503814</td>\n",
       "    </tr>\n",
       "    <tr>\n",
       "      <th>4</th>\n",
       "      <td>114.117833</td>\n",
       "      <td>22.525275</td>\n",
       "    </tr>\n",
       "    <tr>\n",
       "      <th>...</th>\n",
       "      <td>...</td>\n",
       "      <td>...</td>\n",
       "    </tr>\n",
       "    <tr>\n",
       "      <th>92013</th>\n",
       "      <td>114.232454</td>\n",
       "      <td>22.424614</td>\n",
       "    </tr>\n",
       "    <tr>\n",
       "      <th>92014</th>\n",
       "      <td>114.257924</td>\n",
       "      <td>22.311343</td>\n",
       "    </tr>\n",
       "    <tr>\n",
       "      <th>92015</th>\n",
       "      <td>114.010349</td>\n",
       "      <td>22.303078</td>\n",
       "    </tr>\n",
       "    <tr>\n",
       "      <th>92016</th>\n",
       "      <td>114.250253</td>\n",
       "      <td>22.266609</td>\n",
       "    </tr>\n",
       "    <tr>\n",
       "      <th>92017</th>\n",
       "      <td>114.034868</td>\n",
       "      <td>22.441990</td>\n",
       "    </tr>\n",
       "  </tbody>\n",
       "</table>\n",
       "<p>92018 rows × 2 columns</p>\n",
       "</div>"
      ],
      "text/plain": [
       "       x_coordinate  y_coordinate\n",
       "0        114.122603     22.507532\n",
       "1        114.130324     22.495894\n",
       "2        114.142879     22.499239\n",
       "3        114.129826     22.503814\n",
       "4        114.117833     22.525275\n",
       "...             ...           ...\n",
       "92013    114.232454     22.424614\n",
       "92014    114.257924     22.311343\n",
       "92015    114.010349     22.303078\n",
       "92016    114.250253     22.266609\n",
       "92017    114.034868     22.441990\n",
       "\n",
       "[92018 rows x 2 columns]"
      ]
     },
     "execution_count": 53,
     "metadata": {},
     "output_type": "execute_result"
    }
   ],
   "source": [
    "x"
   ]
  },
  {
   "cell_type": "markdown",
   "metadata": {},
   "source": [
    "K-means clustering would first be done to know the clustering of cases in the areas of Hong Kong"
   ]
  },
  {
   "cell_type": "code",
   "execution_count": 68,
   "metadata": {},
   "outputs": [
    {
     "name": "stdout",
     "output_type": "stream",
     "text": [
      "[4 4 4 ... 0 3 0]\n"
     ]
    },
    {
     "data": {
      "text/plain": [
       "<matplotlib.collections.PathCollection at 0x1787c7dfca0>"
      ]
     },
     "execution_count": 68,
     "metadata": {},
     "output_type": "execute_result"
    },
    {
     "data": {
      "image/png": "[encoded data removed]",
      "text/plain": [
       "<Figure size 640x480 with 1 Axes>"
      ]
     },
     "metadata": {},
     "output_type": "display_data"
    }
   ],
   "source": [
    "from sklearn.cluster import KMeans\n",
    "kmeans = KMeans(n_clusters = 5)\n",
    "kmeans.fit(x)\n",
    "k_means = kmeans.predict(x)\n",
    "print(k_means)\n",
    "plt.scatter(x['x_coordinate'], x['y_coordinate'], c=k_means)\n",
    "centers = kmeans.cluster_centers_\n",
    "plt.scatter(centers[:, 0], centers[:, 1], c='blue', s=200)"
   ]
  },
  {
   "cell_type": "code",
   "execution_count": 71,
   "metadata": {},
   "outputs": [
    {
     "data": {
      "text/plain": [
       "<AxesSubplot:>"
      ]
     },
     "execution_count": 71,
     "metadata": {},
     "output_type": "execute_result"
    },
    {
     "data": {
      "image/png": "[encoded data removed]",
      "text/plain": [
       "<Figure size 640x480 with 1 Axes>"
      ]
     },
     "metadata": {},
     "output_type": "display_data"
    }
   ],
   "source": [
    "axes = geop.plot(column='ENAME',legend=True)\n",
    "df['center'] = k_means\n",
    "df.plot(ax=axes, column='center')"
   ]
  },
  {
   "cell_type": "markdown",
   "metadata": {},
   "source": [
    "Treat the data for Multi-Layer Perceptron (MLP) classification"
   ]
  },
  {
   "cell_type": "code",
   "execution_count": 123,
   "metadata": {},
   "outputs": [],
   "source": [
    "df['DISTRICT_EN'] = df['DISTRICT_EN'].replace(['Central & Western', 'Eastern','Islands','Kowloon City', 'Kwai Tsing','Kwun Tong','North', 'Sai Kung', 'Shatin', 'Sham Shui Po', 'Southern', 'Tai Po', 'Tsuen Wan', 'Tuen Mun', 'Wan Chai', 'Wong Tai Sin', 'Yau Tsim Mong', 'Yuen Long'], [0, 1, 2, 3, 4, 5, 6, 7, 8, 9, 10, 11, 12, 13, 14, 15, 16, 17])\n",
    "df['DISTRICT_EN'] = df['DISTRICT_EN'].astype(int)"
   ]
  },
  {
   "cell_type": "code",
   "execution_count": 124,
   "metadata": {},
   "outputs": [
    {
     "name": "stdout",
     "output_type": "stream",
     "text": [
      "<class 'geopandas.geodataframe.GeoDataFrame'>\n",
      "RangeIndex: 92018 entries, 0 to 92017\n",
      "Data columns (total 13 columns):\n",
      " #   Column       Non-Null Count  Dtype   \n",
      "---  ------       --------------  -----   \n",
      " 0   OBJECTID     92018 non-null  int64   \n",
      " 1   OBJECTID_1   92018 non-null  int64   \n",
      " 2   DISTRICT_EN  92018 non-null  int32   \n",
      " 3   DISTRICT_TC  92018 non-null  object  \n",
      " 4   BLDGNAME_EN  92018 non-null  object  \n",
      " 5   BLDGNAME_TC  92018 non-null  object  \n",
      " 6   END_DATE     92018 non-null  object  \n",
      " 7   EASTING      92018 non-null  int64   \n",
      " 8   NORTHING     92018 non-null  int64   \n",
      " 9   UPDATE_DATE  92018 non-null  object  \n",
      " 10  geometry     92018 non-null  geometry\n",
      " 11  center       92018 non-null  int32   \n",
      " 12  District     92018 non-null  object  \n",
      "dtypes: geometry(1), int32(2), int64(4), object(6)\n",
      "memory usage: 8.4+ MB\n"
     ]
    }
   ],
   "source": [
    "df.info()"
   ]
  },
  {
   "cell_type": "code",
   "execution_count": 125,
   "metadata": {},
   "outputs": [],
   "source": [
    "x['location'] = df['DISTRICT_EN']"
   ]
  },
  {
   "cell_type": "code",
   "execution_count": 141,
   "metadata": {},
   "outputs": [
    {
     "data": {
      "text/html": [
       "<div>\n",
       "<style scoped>\n",
       "    .dataframe tbody tr th:only-of-type {\n",
       "        vertical-align: middle;\n",
       "    }\n",
       "\n",
       "    .dataframe tbody tr th {\n",
       "        vertical-align: top;\n",
       "    }\n",
       "\n",
       "    .dataframe thead th {\n",
       "        text-align: right;\n",
       "    }\n",
       "</style>\n",
       "<table border=\"1\" class=\"dataframe\">\n",
       "  <thead>\n",
       "    <tr style=\"text-align: right;\">\n",
       "      <th></th>\n",
       "      <th>x_coordinate</th>\n",
       "      <th>y_coordinate</th>\n",
       "      <th>center</th>\n",
       "      <th>location</th>\n",
       "    </tr>\n",
       "  </thead>\n",
       "  <tbody>\n",
       "    <tr>\n",
       "      <th>0</th>\n",
       "      <td>114.122603</td>\n",
       "      <td>22.507532</td>\n",
       "      <td>4</td>\n",
       "      <td>6</td>\n",
       "    </tr>\n",
       "    <tr>\n",
       "      <th>1</th>\n",
       "      <td>114.130324</td>\n",
       "      <td>22.495894</td>\n",
       "      <td>4</td>\n",
       "      <td>6</td>\n",
       "    </tr>\n",
       "    <tr>\n",
       "      <th>2</th>\n",
       "      <td>114.142879</td>\n",
       "      <td>22.499239</td>\n",
       "      <td>4</td>\n",
       "      <td>6</td>\n",
       "    </tr>\n",
       "    <tr>\n",
       "      <th>3</th>\n",
       "      <td>114.129826</td>\n",
       "      <td>22.503814</td>\n",
       "      <td>4</td>\n",
       "      <td>6</td>\n",
       "    </tr>\n",
       "    <tr>\n",
       "      <th>4</th>\n",
       "      <td>114.117833</td>\n",
       "      <td>22.525275</td>\n",
       "      <td>4</td>\n",
       "      <td>6</td>\n",
       "    </tr>\n",
       "    <tr>\n",
       "      <th>...</th>\n",
       "      <td>...</td>\n",
       "      <td>...</td>\n",
       "      <td>...</td>\n",
       "      <td>...</td>\n",
       "    </tr>\n",
       "    <tr>\n",
       "      <th>92013</th>\n",
       "      <td>114.232454</td>\n",
       "      <td>22.424614</td>\n",
       "      <td>4</td>\n",
       "      <td>8</td>\n",
       "    </tr>\n",
       "    <tr>\n",
       "      <th>92014</th>\n",
       "      <td>114.257924</td>\n",
       "      <td>22.311343</td>\n",
       "      <td>1</td>\n",
       "      <td>7</td>\n",
       "    </tr>\n",
       "    <tr>\n",
       "      <th>92015</th>\n",
       "      <td>114.010349</td>\n",
       "      <td>22.303078</td>\n",
       "      <td>0</td>\n",
       "      <td>2</td>\n",
       "    </tr>\n",
       "    <tr>\n",
       "      <th>92016</th>\n",
       "      <td>114.250253</td>\n",
       "      <td>22.266609</td>\n",
       "      <td>1</td>\n",
       "      <td>1</td>\n",
       "    </tr>\n",
       "    <tr>\n",
       "      <th>92017</th>\n",
       "      <td>114.034868</td>\n",
       "      <td>22.441990</td>\n",
       "      <td>0</td>\n",
       "      <td>17</td>\n",
       "    </tr>\n",
       "  </tbody>\n",
       "</table>\n",
       "<p>92018 rows × 4 columns</p>\n",
       "</div>"
      ],
      "text/plain": [
       "       x_coordinate  y_coordinate  center  location\n",
       "0        114.122603     22.507532       4         6\n",
       "1        114.130324     22.495894       4         6\n",
       "2        114.142879     22.499239       4         6\n",
       "3        114.129826     22.503814       4         6\n",
       "4        114.117833     22.525275       4         6\n",
       "...             ...           ...     ...       ...\n",
       "92013    114.232454     22.424614       4         8\n",
       "92014    114.257924     22.311343       1         7\n",
       "92015    114.010349     22.303078       0         2\n",
       "92016    114.250253     22.266609       1         1\n",
       "92017    114.034868     22.441990       0        17\n",
       "\n",
       "[92018 rows x 4 columns]"
      ]
     },
     "execution_count": 141,
     "metadata": {},
     "output_type": "execute_result"
    }
   ],
   "source": [
    "x"
   ]
  },
  {
   "cell_type": "markdown",
   "metadata": {},
   "source": [
    "Undergo the MLP Classification"
   ]
  },
  {
   "cell_type": "code",
   "execution_count": 146,
   "metadata": {
    "scrolled": true
   },
   "outputs": [
    {
     "name": "stdout",
     "output_type": "stream",
     "text": [
      "\n",
      "District1:\n",
      "============\n",
      "TN=17662, FP=3, FN=6, TP=733\n",
      "Recall/Sensitivity=0.992\n",
      "Specificity=1.0\n",
      "Precision=0.996\n",
      "\n",
      "District2:\n",
      "============\n",
      "TN=17479, FP=12, FN=5, TP=908\n",
      "Recall/Sensitivity=0.995\n",
      "Specificity=0.999\n",
      "Precision=0.987\n",
      "\n",
      "District3:\n",
      "============\n",
      "TN=18095, FP=0, FN=0, TP=309\n",
      "Recall/Sensitivity=1.0\n",
      "Specificity=1.0\n",
      "Precision=1.0\n",
      "\n",
      "District4:\n",
      "============\n",
      "TN=17128, FP=94, FN=87, TP=1095\n",
      "Recall/Sensitivity=0.926\n",
      "Specificity=0.995\n",
      "Precision=0.921\n",
      "\n",
      "District5:\n",
      "============\n",
      "TN=17350, FP=40, FN=37, TP=977\n",
      "Recall/Sensitivity=0.964\n",
      "Specificity=0.998\n",
      "Precision=0.961\n",
      "\n",
      "District6:\n",
      "============\n",
      "TN=16884, FP=37, FN=37, TP=1446\n",
      "Recall/Sensitivity=0.975\n",
      "Specificity=0.998\n",
      "Precision=0.975\n",
      "\n",
      "District7:\n",
      "============\n",
      "TN=17308, FP=4, FN=2, TP=1090\n",
      "Recall/Sensitivity=0.998\n",
      "Specificity=1.0\n",
      "Precision=0.996\n",
      "\n",
      "District8:\n",
      "============\n",
      "TN=17563, FP=1, FN=3, TP=837\n",
      "Recall/Sensitivity=0.996\n",
      "Specificity=1.0\n",
      "Precision=0.999\n",
      "\n",
      "District9:\n",
      "============\n",
      "TN=16956, FP=12, FN=0, TP=1436\n",
      "Recall/Sensitivity=1.0\n",
      "Specificity=0.999\n",
      "Precision=0.992\n",
      "\n",
      "District10:\n",
      "============\n",
      "TN=16763, FP=13, FN=34, TP=1594\n",
      "Recall/Sensitivity=0.979\n",
      "Specificity=0.999\n",
      "Precision=0.992\n",
      "\n",
      "District11:\n",
      "============\n",
      "TN=18099, FP=3, FN=3, TP=299\n",
      "Recall/Sensitivity=0.99\n",
      "Specificity=1.0\n",
      "Precision=0.99\n",
      "\n",
      "District12:\n",
      "============\n",
      "TN=17648, FP=1, FN=11, TP=744\n",
      "Recall/Sensitivity=0.985\n",
      "Specificity=1.0\n",
      "Precision=0.999\n",
      "\n",
      "District13:\n",
      "============\n",
      "TN=17450, FP=37, FN=46, TP=871\n",
      "Recall/Sensitivity=0.95\n",
      "Specificity=0.998\n",
      "Precision=0.959\n",
      "\n",
      "District14:\n",
      "============\n",
      "TN=17418, FP=13, FN=3, TP=970\n",
      "Recall/Sensitivity=0.997\n",
      "Specificity=0.999\n",
      "Precision=0.987\n",
      "\n",
      "District15:\n",
      "============\n",
      "TN=17957, FP=10, FN=11, TP=426\n",
      "Recall/Sensitivity=0.975\n",
      "Specificity=0.999\n",
      "Precision=0.977\n",
      "\n",
      "District16:\n",
      "============\n",
      "TN=17659, FP=32, FN=48, TP=665\n",
      "Recall/Sensitivity=0.933\n",
      "Specificity=0.998\n",
      "Precision=0.954\n",
      "\n",
      "District17:\n",
      "============\n",
      "TN=16500, FP=58, FN=27, TP=1819\n",
      "Recall/Sensitivity=0.985\n",
      "Specificity=0.996\n",
      "Precision=0.969\n",
      "\n",
      "District18:\n",
      "============\n",
      "TN=16573, FP=6, FN=16, TP=1809\n",
      "Recall/Sensitivity=0.991\n",
      "Specificity=1.0\n",
      "Precision=0.997\n"
     ]
    }
   ],
   "source": [
    "from sklearn.model_selection import train_test_split\n",
    "from sklearn.preprocessing import MinMaxScaler\n",
    "from sklearn.neural_network import MLPClassifier\n",
    "from sklearn.metrics import classification_report, confusion_matrix\n",
    "\n",
    "x = x.dropna()\n",
    "\n",
    "# Step 3: Normalize or scale the features, if necessary\n",
    "# It's a good practice to scale the input features for MLP classifiers\n",
    "scaler = MinMaxScaler()\n",
    "X_scaled = scaler.fit_transform(x.drop('location', axis=1))\n",
    "\n",
    "# Prepare the data for classification\n",
    "X = pd.DataFrame(X_scaled, columns=x.drop('location', axis=1).columns)\n",
    "y = x['location']\n",
    "\n",
    "# Step 4: Split the data into training and testing sets\n",
    "X_train, X_test, y_train, y_test = train_test_split(X, y, test_size=0.2, random_state=42)\n",
    "\n",
    "# Step 5: Create and train the MLP classifier\n",
    "mlp = MLPClassifier(hidden_layer_sizes=(10, 10, 10), max_iter=1000)\n",
    "mlp.fit(X_train, y_train)\n",
    "\n",
    "# Step 6: Make predictions on the test set\n",
    "predictions = mlp.predict(X_test)\n",
    "\n",
    "cm = confusion_matrix(y_test, predictions)\n",
    "\n",
    "# Calculate TN, FP, FN, TP, recall (sensitivity), specificity, and precision for each class\n",
    "for i in range(len(cm)):\n",
    "    tp = cm[i, i]\n",
    "    fp = np.sum(cm[:, i]) - tp\n",
    "    fn = np.sum(cm[i, :]) - tp\n",
    "    tn = np.sum(cm) - tp - fp - fn\n",
    "    recall = tp / (tp + fn)\n",
    "    specificity = tn / (tn + fp)\n",
    "    precision = tp / (tp + fp)\n",
    "\n",
    "    print(f'\\nDistrict{i + 1}:')\n",
    "    print('============')\n",
    "    print(f'TN={tn}, FP={fp}, FN={fn}, TP={tp}')\n",
    "    print(f'Recall/Sensitivity={round(recall, 3)}')\n",
    "    print(f'Specificity={round(specificity, 3)}')\n",
    "    print(f'Precision={round(precision, 3)}')"
   ]
  },
  {
   "cell_type": "markdown",
   "metadata": {},
   "source": [
    "# Task 4 - Classify different features and case status to see which feature is the factor of Covid-19 confirmed cases in Hong Kong."
   ]
  },
  {
   "cell_type": "code",
   "execution_count": 6,
   "metadata": {},
   "outputs": [],
   "source": [
    "import numpy as np\n",
    "import pandas as pd\n",
    "import seaborn as sns\n",
    "import matplotlib.pyplot as plt"
   ]
  },
  {
   "cell_type": "code",
   "execution_count": 7,
   "metadata": {},
   "outputs": [],
   "source": [
    "df = pd.read_csv('enhanced_sur_covid_19_eng.csv')"
   ]
  },
  {
   "cell_type": "code",
   "execution_count": 8,
   "metadata": {},
   "outputs": [
    {
     "data": {
      "text/html": [
       "<div>\n",
       "<style scoped>\n",
       "    .dataframe tbody tr th:only-of-type {\n",
       "        vertical-align: middle;\n",
       "    }\n",
       "\n",
       "    .dataframe tbody tr th {\n",
       "        vertical-align: top;\n",
       "    }\n",
       "\n",
       "    .dataframe thead th {\n",
       "        text-align: right;\n",
       "    }\n",
       "</style>\n",
       "<table border=\"1\" class=\"dataframe\">\n",
       "  <thead>\n",
       "    <tr style=\"text-align: right;\">\n",
       "      <th></th>\n",
       "      <th>Case no.</th>\n",
       "      <th>Report date</th>\n",
       "      <th>Date of onset</th>\n",
       "      <th>Gender</th>\n",
       "      <th>Age</th>\n",
       "      <th>Name of hospital admitted</th>\n",
       "      <th>Hospitalised/Discharged/Deceased</th>\n",
       "      <th>HK/Non-HK resident</th>\n",
       "      <th>Classification*</th>\n",
       "      <th>Case status*</th>\n",
       "    </tr>\n",
       "  </thead>\n",
       "  <tbody>\n",
       "    <tr>\n",
       "      <th>0</th>\n",
       "      <td>1</td>\n",
       "      <td>23/01/2020</td>\n",
       "      <td>21/01/2020</td>\n",
       "      <td>M</td>\n",
       "      <td>39</td>\n",
       "      <td>NaN</td>\n",
       "      <td>Discharged</td>\n",
       "      <td>Non-HK resident</td>\n",
       "      <td>Imported case</td>\n",
       "      <td>Confirmed</td>\n",
       "    </tr>\n",
       "    <tr>\n",
       "      <th>1</th>\n",
       "      <td>2</td>\n",
       "      <td>23/01/2020</td>\n",
       "      <td>18/01/2020</td>\n",
       "      <td>M</td>\n",
       "      <td>56</td>\n",
       "      <td>NaN</td>\n",
       "      <td>Discharged</td>\n",
       "      <td>HK resident</td>\n",
       "      <td>Imported case</td>\n",
       "      <td>Confirmed</td>\n",
       "    </tr>\n",
       "    <tr>\n",
       "      <th>2</th>\n",
       "      <td>3</td>\n",
       "      <td>24/01/2020</td>\n",
       "      <td>20/01/2020</td>\n",
       "      <td>F</td>\n",
       "      <td>62</td>\n",
       "      <td>NaN</td>\n",
       "      <td>Discharged</td>\n",
       "      <td>Non-HK resident</td>\n",
       "      <td>Imported case</td>\n",
       "      <td>Confirmed</td>\n",
       "    </tr>\n",
       "    <tr>\n",
       "      <th>3</th>\n",
       "      <td>4</td>\n",
       "      <td>24/01/2020</td>\n",
       "      <td>23/01/2020</td>\n",
       "      <td>F</td>\n",
       "      <td>62</td>\n",
       "      <td>NaN</td>\n",
       "      <td>Discharged</td>\n",
       "      <td>Non-HK resident</td>\n",
       "      <td>Imported case</td>\n",
       "      <td>Confirmed</td>\n",
       "    </tr>\n",
       "    <tr>\n",
       "      <th>4</th>\n",
       "      <td>5</td>\n",
       "      <td>24/01/2020</td>\n",
       "      <td>23/01/2020</td>\n",
       "      <td>M</td>\n",
       "      <td>63</td>\n",
       "      <td>NaN</td>\n",
       "      <td>Discharged</td>\n",
       "      <td>Non-HK resident</td>\n",
       "      <td>Imported case</td>\n",
       "      <td>Confirmed</td>\n",
       "    </tr>\n",
       "  </tbody>\n",
       "</table>\n",
       "</div>"
      ],
      "text/plain": [
       "   Case no. Report date Date of onset Gender Age  Name of hospital admitted  \\\n",
       "0         1  23/01/2020    21/01/2020      M  39                        NaN   \n",
       "1         2  23/01/2020    18/01/2020      M  56                        NaN   \n",
       "2         3  24/01/2020    20/01/2020      F  62                        NaN   \n",
       "3         4  24/01/2020    23/01/2020      F  62                        NaN   \n",
       "4         5  24/01/2020    23/01/2020      M  63                        NaN   \n",
       "\n",
       "  Hospitalised/Discharged/Deceased HK/Non-HK resident Classification*  \\\n",
       "0                       Discharged    Non-HK resident   Imported case   \n",
       "1                       Discharged        HK resident   Imported case   \n",
       "2                       Discharged    Non-HK resident   Imported case   \n",
       "3                       Discharged    Non-HK resident   Imported case   \n",
       "4                       Discharged    Non-HK resident   Imported case   \n",
       "\n",
       "  Case status*  \n",
       "0    Confirmed  \n",
       "1    Confirmed  \n",
       "2    Confirmed  \n",
       "3    Confirmed  \n",
       "4    Confirmed  "
      ]
     },
     "execution_count": 8,
     "metadata": {},
     "output_type": "execute_result"
    }
   ],
   "source": [
    "df.head()"
   ]
  },
  {
   "cell_type": "code",
   "execution_count": 9,
   "metadata": {},
   "outputs": [
    {
     "data": {
      "text/plain": [
       "(15441, 10)"
      ]
     },
     "execution_count": 9,
     "metadata": {},
     "output_type": "execute_result"
    }
   ],
   "source": [
    "df.shape"
   ]
  },
  {
   "cell_type": "code",
   "execution_count": 10,
   "metadata": {},
   "outputs": [
    {
     "name": "stdout",
     "output_type": "stream",
     "text": [
      "<class 'pandas.core.frame.DataFrame'>\n",
      "RangeIndex: 15441 entries, 0 to 15440\n",
      "Data columns (total 10 columns):\n",
      " #   Column                            Non-Null Count  Dtype  \n",
      "---  ------                            --------------  -----  \n",
      " 0   Case no.                          15441 non-null  int64  \n",
      " 1   Report date                       15441 non-null  object \n",
      " 2   Date of onset                     15421 non-null  object \n",
      " 3   Gender                            15435 non-null  object \n",
      " 4   Age                               15435 non-null  object \n",
      " 5   Name of hospital admitted         0 non-null      float64\n",
      " 6   Hospitalised/Discharged/Deceased  15435 non-null  object \n",
      " 7   HK/Non-HK resident                15435 non-null  object \n",
      " 8   Classification*                   15435 non-null  object \n",
      " 9   Case status*                      15441 non-null  object \n",
      "dtypes: float64(1), int64(1), object(8)\n",
      "memory usage: 1.2+ MB\n"
     ]
    }
   ],
   "source": [
    "df.info()"
   ]
  },
  {
   "cell_type": "markdown",
   "metadata": {},
   "source": [
    "### Data Preprocessing"
   ]
  },
  {
   "cell_type": "code",
   "execution_count": 11,
   "metadata": {},
   "outputs": [],
   "source": [
    "df = df.rename(columns={'Classification*': 'Classification', 'Case status*': 'Case status', 'Date of onset': 'Symptom'})\n"
   ]
  },
  {
   "cell_type": "code",
   "execution_count": 12,
   "metadata": {},
   "outputs": [],
   "source": [
    "df = df.drop('Name of hospital admitted', axis = 1)\n",
    "df = df.drop('Case no.', axis = 1)\n",
    "df = df.dropna()"
   ]
  },
  {
   "cell_type": "code",
   "execution_count": 13,
   "metadata": {},
   "outputs": [
    {
     "name": "stdout",
     "output_type": "stream",
     "text": [
      "Symptomatic     10621\n",
      "Asymptomatic     4800\n",
      "Name: Symptom, dtype: int64\n"
     ]
    }
   ],
   "source": [
    "for i in df['Symptom']:\n",
    "    if i != 'Asymptomatic':\n",
    "        df['Symptom'] = df['Symptom'].replace(i, 'Symptomatic')\n",
    "\n",
    "print(df[\"Symptom\"].value_counts())"
   ]
  },
  {
   "cell_type": "code",
   "execution_count": 14,
   "metadata": {
    "scrolled": false
   },
   "outputs": [
    {
     "data": {
      "text/html": [
       "<div>\n",
       "<style scoped>\n",
       "    .dataframe tbody tr th:only-of-type {\n",
       "        vertical-align: middle;\n",
       "    }\n",
       "\n",
       "    .dataframe tbody tr th {\n",
       "        vertical-align: top;\n",
       "    }\n",
       "\n",
       "    .dataframe thead th {\n",
       "        text-align: right;\n",
       "    }\n",
       "</style>\n",
       "<table border=\"1\" class=\"dataframe\">\n",
       "  <thead>\n",
       "    <tr style=\"text-align: right;\">\n",
       "      <th></th>\n",
       "      <th>Report date</th>\n",
       "      <th>Symptom</th>\n",
       "      <th>Gender</th>\n",
       "      <th>Age</th>\n",
       "      <th>Hospitalised/Discharged/Deceased</th>\n",
       "      <th>HK/Non-HK resident</th>\n",
       "      <th>Classification</th>\n",
       "      <th>Case status</th>\n",
       "    </tr>\n",
       "  </thead>\n",
       "  <tbody>\n",
       "    <tr>\n",
       "      <th>0</th>\n",
       "      <td>23/01/2020</td>\n",
       "      <td>Symptomatic</td>\n",
       "      <td>M</td>\n",
       "      <td>39</td>\n",
       "      <td>Discharged</td>\n",
       "      <td>Non-HK resident</td>\n",
       "      <td>Imported case</td>\n",
       "      <td>Confirmed</td>\n",
       "    </tr>\n",
       "    <tr>\n",
       "      <th>1</th>\n",
       "      <td>23/01/2020</td>\n",
       "      <td>Symptomatic</td>\n",
       "      <td>M</td>\n",
       "      <td>56</td>\n",
       "      <td>Discharged</td>\n",
       "      <td>HK resident</td>\n",
       "      <td>Imported case</td>\n",
       "      <td>Confirmed</td>\n",
       "    </tr>\n",
       "    <tr>\n",
       "      <th>2</th>\n",
       "      <td>24/01/2020</td>\n",
       "      <td>Symptomatic</td>\n",
       "      <td>F</td>\n",
       "      <td>62</td>\n",
       "      <td>Discharged</td>\n",
       "      <td>Non-HK resident</td>\n",
       "      <td>Imported case</td>\n",
       "      <td>Confirmed</td>\n",
       "    </tr>\n",
       "    <tr>\n",
       "      <th>3</th>\n",
       "      <td>24/01/2020</td>\n",
       "      <td>Symptomatic</td>\n",
       "      <td>F</td>\n",
       "      <td>62</td>\n",
       "      <td>Discharged</td>\n",
       "      <td>Non-HK resident</td>\n",
       "      <td>Imported case</td>\n",
       "      <td>Confirmed</td>\n",
       "    </tr>\n",
       "    <tr>\n",
       "      <th>4</th>\n",
       "      <td>24/01/2020</td>\n",
       "      <td>Symptomatic</td>\n",
       "      <td>M</td>\n",
       "      <td>63</td>\n",
       "      <td>Discharged</td>\n",
       "      <td>Non-HK resident</td>\n",
       "      <td>Imported case</td>\n",
       "      <td>Confirmed</td>\n",
       "    </tr>\n",
       "  </tbody>\n",
       "</table>\n",
       "</div>"
      ],
      "text/plain": [
       "  Report date      Symptom Gender Age Hospitalised/Discharged/Deceased  \\\n",
       "0  23/01/2020  Symptomatic      M  39                       Discharged   \n",
       "1  23/01/2020  Symptomatic      M  56                       Discharged   \n",
       "2  24/01/2020  Symptomatic      F  62                       Discharged   \n",
       "3  24/01/2020  Symptomatic      F  62                       Discharged   \n",
       "4  24/01/2020  Symptomatic      M  63                       Discharged   \n",
       "\n",
       "  HK/Non-HK resident Classification Case status  \n",
       "0    Non-HK resident  Imported case   Confirmed  \n",
       "1        HK resident  Imported case   Confirmed  \n",
       "2    Non-HK resident  Imported case   Confirmed  \n",
       "3    Non-HK resident  Imported case   Confirmed  \n",
       "4    Non-HK resident  Imported case   Confirmed  "
      ]
     },
     "execution_count": 14,
     "metadata": {},
     "output_type": "execute_result"
    }
   ],
   "source": [
    "df.head()"
   ]
  },
  {
   "cell_type": "code",
   "execution_count": 15,
   "metadata": {
    "scrolled": false
   },
   "outputs": [
    {
     "data": {
      "text/plain": [
       "Report date                         0\n",
       "Symptom                             0\n",
       "Gender                              0\n",
       "Age                                 0\n",
       "Hospitalised/Discharged/Deceased    0\n",
       "HK/Non-HK resident                  0\n",
       "Classification                      0\n",
       "Case status                         0\n",
       "dtype: int64"
      ]
     },
     "execution_count": 15,
     "metadata": {},
     "output_type": "execute_result"
    }
   ],
   "source": [
    "df.isnull().sum()"
   ]
  },
  {
   "cell_type": "code",
   "execution_count": 16,
   "metadata": {},
   "outputs": [],
   "source": [
    "df1 = df\n",
    "df1 = df1.drop(df1[df1['Case status'] != 'Confirmed'].index)\n",
    "df1 = df1.drop(df1[df1['Age'] == '<1'].index)\n",
    "df1 = df1.drop(df1[df1['Age'] == 'Pending'].index)\n",
    "df1['Age'] = df1['Age'].astype(int)"
   ]
  },
  {
   "cell_type": "markdown",
   "metadata": {},
   "source": [
    "### Data Visualization"
   ]
  },
  {
   "cell_type": "code",
   "execution_count": 21,
   "metadata": {
    "scrolled": false
   },
   "outputs": [
    {
     "data": {
      "text/plain": [
       "Text(0.5, 1.0, 'Type of confirmed cases')"
      ]
     },
     "execution_count": 21,
     "metadata": {},
     "output_type": "execute_result"
    },
    {
     "data": {
      "image/png": "[encoded data removed]",
      "text/plain": [
       "<Figure size 1800x1000 with 6 Axes>"
      ]
     },
     "metadata": {},
     "output_type": "display_data"
    }
   ],
   "source": [
    "sns.set_style('darkgrid')\n",
    "\n",
    "fig, axes = plt.subplots(2, 3, figsize=(18, 10))\n",
    "fig.suptitle('Covid-19 status by different features')\n",
    "\n",
    "sns.countplot(ax=axes[0, 0], data=df, x=\"Case status\", hue=\"Symptom\").set_title('Symptom in case status')\n",
    "sns.countplot(ax=axes[0, 1], data=df1, x=\"Case status\", hue=\"Gender\").set_title('Gender in confirmed cases')\n",
    "sns.histplot(df1['Age'], bins=10).set_title('Age in confirmed cases')\n",
    "sns.countplot(ax=axes[0, 2], data=df1, x=\"Case status\", hue=\"Hospitalised/Discharged/Deceased\").set_title('Situations of confirmed cases')\n",
    "sns.countplot(ax=axes[1, 0], data=df1, x=\"Case status\", hue=\"HK/Non-HK resident\").set_title('HK/Non-HK resident in confirmed cases')\n",
    "sns.countplot(ax=axes[1, 1], data=df1, x=\"Case status\", hue=\"Classification\").set_title('Type of confirmed cases')"
   ]
  },
  {
   "cell_type": "markdown",
   "metadata": {},
   "source": [
    "### Data Modeling"
   ]
  },
  {
   "cell_type": "code",
   "execution_count": 22,
   "metadata": {},
   "outputs": [],
   "source": [
    "from sklearn.preprocessing import LabelEncoder\n",
    "\n",
    "LE = LabelEncoder()"
   ]
  },
  {
   "cell_type": "code",
   "execution_count": 23,
   "metadata": {},
   "outputs": [],
   "source": [
    "df['Symptom'] = LE.fit_transform(df['Symptom'])\n",
    "df['Gender'] = LE.fit_transform(df['Gender'])\n",
    "df['Age'] = LE.fit_transform(df['Age'])\n",
    "df['Hospitalised/Discharged/Deceased'] = LE.fit_transform(df['Hospitalised/Discharged/Deceased'])\n",
    "df['HK/Non-HK resident'] = LE.fit_transform(df['HK/Non-HK resident'])\n",
    "df['Classification'] = LE.fit_transform(df['Classification'])"
   ]
  },
  {
   "cell_type": "code",
   "execution_count": 24,
   "metadata": {},
   "outputs": [],
   "source": [
    "df = df.drop(df[df['Case status'] == 'Pending'].index)\n",
    "df = df.drop(df[df['Case status'] == 'Unknown'].index)\n",
    "df['Case status'] = df['Case status'].replace('Confirmed', 0)\n",
    "df['Case status'] = df['Case status'].replace('Asymptomatic', 1)\n",
    "df['Case status']=LE.fit_transform(df['Case status'])"
   ]
  },
  {
   "cell_type": "code",
   "execution_count": 25,
   "metadata": {},
   "outputs": [
    {
     "data": {
      "text/html": [
       "<div>\n",
       "<style scoped>\n",
       "    .dataframe tbody tr th:only-of-type {\n",
       "        vertical-align: middle;\n",
       "    }\n",
       "\n",
       "    .dataframe tbody tr th {\n",
       "        vertical-align: top;\n",
       "    }\n",
       "\n",
       "    .dataframe thead th {\n",
       "        text-align: right;\n",
       "    }\n",
       "</style>\n",
       "<table border=\"1\" class=\"dataframe\">\n",
       "  <thead>\n",
       "    <tr style=\"text-align: right;\">\n",
       "      <th></th>\n",
       "      <th>Report date</th>\n",
       "      <th>Symptom</th>\n",
       "      <th>Gender</th>\n",
       "      <th>Age</th>\n",
       "      <th>Hospitalised/Discharged/Deceased</th>\n",
       "      <th>HK/Non-HK resident</th>\n",
       "      <th>Classification</th>\n",
       "      <th>Case status</th>\n",
       "    </tr>\n",
       "  </thead>\n",
       "  <tbody>\n",
       "    <tr>\n",
       "      <th>5698</th>\n",
       "      <td>23/11/2020</td>\n",
       "      <td>0</td>\n",
       "      <td>0</td>\n",
       "      <td>62</td>\n",
       "      <td>1</td>\n",
       "      <td>0</td>\n",
       "      <td>1</td>\n",
       "      <td>0</td>\n",
       "    </tr>\n",
       "    <tr>\n",
       "      <th>663</th>\n",
       "      <td>30/03/2020</td>\n",
       "      <td>0</td>\n",
       "      <td>0</td>\n",
       "      <td>9</td>\n",
       "      <td>1</td>\n",
       "      <td>0</td>\n",
       "      <td>3</td>\n",
       "      <td>0</td>\n",
       "    </tr>\n",
       "    <tr>\n",
       "      <th>14373</th>\n",
       "      <td>02/02/2022</td>\n",
       "      <td>0</td>\n",
       "      <td>1</td>\n",
       "      <td>62</td>\n",
       "      <td>2</td>\n",
       "      <td>0</td>\n",
       "      <td>5</td>\n",
       "      <td>1</td>\n",
       "    </tr>\n",
       "    <tr>\n",
       "      <th>4035</th>\n",
       "      <td>09/08/2020</td>\n",
       "      <td>1</td>\n",
       "      <td>0</td>\n",
       "      <td>9</td>\n",
       "      <td>1</td>\n",
       "      <td>0</td>\n",
       "      <td>4</td>\n",
       "      <td>0</td>\n",
       "    </tr>\n",
       "    <tr>\n",
       "      <th>2365</th>\n",
       "      <td>24/07/2020</td>\n",
       "      <td>0</td>\n",
       "      <td>1</td>\n",
       "      <td>56</td>\n",
       "      <td>1</td>\n",
       "      <td>0</td>\n",
       "      <td>1</td>\n",
       "      <td>0</td>\n",
       "    </tr>\n",
       "  </tbody>\n",
       "</table>\n",
       "</div>"
      ],
      "text/plain": [
       "      Report date  Symptom  Gender  Age  Hospitalised/Discharged/Deceased  \\\n",
       "5698   23/11/2020        0       0   62                                 1   \n",
       "663    30/03/2020        0       0    9                                 1   \n",
       "14373  02/02/2022        0       1   62                                 2   \n",
       "4035   09/08/2020        1       0    9                                 1   \n",
       "2365   24/07/2020        0       1   56                                 1   \n",
       "\n",
       "       HK/Non-HK resident  Classification  Case status  \n",
       "5698                    0               1            0  \n",
       "663                     0               3            0  \n",
       "14373                   0               5            1  \n",
       "4035                    0               4            0  \n",
       "2365                    0               1            0  "
      ]
     },
     "execution_count": 25,
     "metadata": {},
     "output_type": "execute_result"
    }
   ],
   "source": [
    "df = df.sample(frac = 1)\n",
    "df.head()"
   ]
  },
  {
   "cell_type": "code",
   "execution_count": 26,
   "metadata": {},
   "outputs": [],
   "source": [
    "from sklearn.model_selection import train_test_split\n",
    "\n",
    "x = df.drop(['Report date', 'Case status', 'Hospitalised/Discharged/Deceased'], axis = 1)\n",
    "y = df['Case status']\n",
    "x_train, x_test, y_train, y_test = train_test_split(x, y, test_size = 0.20)"
   ]
  },
  {
   "cell_type": "code",
   "execution_count": 27,
   "metadata": {},
   "outputs": [
    {
     "data": {
      "text/html": [
       "<style>#sk-container-id-1 {color: black;background-color: white;}#sk-container-id-1 pre{padding: 0;}#sk-container-id-1 div.sk-toggleable {background-color: white;}#sk-container-id-1 label.sk-toggleable__label {cursor: pointer;display: block;width: 100%;margin-bottom: 0;padding: 0.3em;box-sizing: border-box;text-align: center;}#sk-container-id-1 label.sk-toggleable__label-arrow:before {content: \"▸\";float: left;margin-right: 0.25em;color: #696969;}#sk-container-id-1 label.sk-toggleable__label-arrow:hover:before {color: black;}#sk-container-id-1 div.sk-estimator:hover label.sk-toggleable__label-arrow:before {color: black;}#sk-container-id-1 div.sk-toggleable__content {max-height: 0;max-width: 0;overflow: hidden;text-align: left;background-color: #f0f8ff;}#sk-container-id-1 div.sk-toggleable__content pre {margin: 0.2em;color: black;border-radius: 0.25em;background-color: #f0f8ff;}#sk-container-id-1 input.sk-toggleable__control:checked~div.sk-toggleable__content {max-height: 200px;max-width: 100%;overflow: auto;}#sk-container-id-1 input.sk-toggleable__control:checked~label.sk-toggleable__label-arrow:before {content: \"▾\";}#sk-container-id-1 div.sk-estimator input.sk-toggleable__control:checked~label.sk-toggleable__label {background-color: #d4ebff;}#sk-container-id-1 div.sk-label input.sk-toggleable__control:checked~label.sk-toggleable__label {background-color: #d4ebff;}#sk-container-id-1 input.sk-hidden--visually {border: 0;clip: rect(1px 1px 1px 1px);clip: rect(1px, 1px, 1px, 1px);height: 1px;margin: -1px;overflow: hidden;padding: 0;position: absolute;width: 1px;}#sk-container-id-1 div.sk-estimator {font-family: monospace;background-color: #f0f8ff;border: 1px dotted black;border-radius: 0.25em;box-sizing: border-box;margin-bottom: 0.5em;}#sk-container-id-1 div.sk-estimator:hover {background-color: #d4ebff;}#sk-container-id-1 div.sk-parallel-item::after {content: \"\";width: 100%;border-bottom: 1px solid gray;flex-grow: 1;}#sk-container-id-1 div.sk-label:hover label.sk-toggleable__label {background-color: #d4ebff;}#sk-container-id-1 div.sk-serial::before {content: \"\";position: absolute;border-left: 1px solid gray;box-sizing: border-box;top: 0;bottom: 0;left: 50%;z-index: 0;}#sk-container-id-1 div.sk-serial {display: flex;flex-direction: column;align-items: center;background-color: white;padding-right: 0.2em;padding-left: 0.2em;position: relative;}#sk-container-id-1 div.sk-item {position: relative;z-index: 1;}#sk-container-id-1 div.sk-parallel {display: flex;align-items: stretch;justify-content: center;background-color: white;position: relative;}#sk-container-id-1 div.sk-item::before, #sk-container-id-1 div.sk-parallel-item::before {content: \"\";position: absolute;border-left: 1px solid gray;box-sizing: border-box;top: 0;bottom: 0;left: 50%;z-index: -1;}#sk-container-id-1 div.sk-parallel-item {display: flex;flex-direction: column;z-index: 1;position: relative;background-color: white;}#sk-container-id-1 div.sk-parallel-item:first-child::after {align-self: flex-end;width: 50%;}#sk-container-id-1 div.sk-parallel-item:last-child::after {align-self: flex-start;width: 50%;}#sk-container-id-1 div.sk-parallel-item:only-child::after {width: 0;}#sk-container-id-1 div.sk-dashed-wrapped {border: 1px dashed gray;margin: 0 0.4em 0.5em 0.4em;box-sizing: border-box;padding-bottom: 0.4em;background-color: white;}#sk-container-id-1 div.sk-label label {font-family: monospace;font-weight: bold;display: inline-block;line-height: 1.2em;}#sk-container-id-1 div.sk-label-container {text-align: center;}#sk-container-id-1 div.sk-container {/* jupyter's `normalize.less` sets `[hidden] { display: none; }` but bootstrap.min.css set `[hidden] { display: none !important; }` so we also need the `!important` here to be able to override the default hidden behavior on the sphinx rendered scikit-learn.org. See: https://github.com/scikit-learn/scikit-learn/issues/21755 */display: inline-block !important;position: relative;}#sk-container-id-1 div.sk-text-repr-fallback {display: none;}</style><div id=\"sk-container-id-1\" class=\"sk-top-container\"><div class=\"sk-text-repr-fallback\"><pre>KNeighborsClassifier(n_neighbors=3)</pre><b>In a Jupyter environment, please rerun this cell to show the HTML representation or trust the notebook. <br />On GitHub, the HTML representation is unable to render, please try loading this page with nbviewer.org.</b></div><div class=\"sk-container\" hidden><div class=\"sk-item\"><div class=\"sk-estimator sk-toggleable\"><input class=\"sk-toggleable__control sk-hidden--visually\" id=\"sk-estimator-id-1\" type=\"checkbox\" checked><label for=\"sk-estimator-id-1\" class=\"sk-toggleable__label sk-toggleable__label-arrow\">KNeighborsClassifier</label><div class=\"sk-toggleable__content\"><pre>KNeighborsClassifier(n_neighbors=3)</pre></div></div></div></div></div>"
      ],
      "text/plain": [
       "KNeighborsClassifier(n_neighbors=3)"
      ]
     },
     "execution_count": 27,
     "metadata": {},
     "output_type": "execute_result"
    }
   ],
   "source": [
    "from sklearn.neighbors import KNeighborsClassifier\n",
    "\n",
    "KNN = KNeighborsClassifier(n_neighbors=3)\n",
    "KNN.fit(x_train, y_train)"
   ]
  },
  {
   "cell_type": "code",
   "execution_count": 28,
   "metadata": {},
   "outputs": [
    {
     "name": "stdout",
     "output_type": "stream",
     "text": [
      "              precision    recall  f1-score   support\n",
      "\n",
      "           0       0.98      0.99      0.99      2987\n",
      "           1       0.70      0.38      0.49        93\n",
      "\n",
      "    accuracy                           0.98      3080\n",
      "   macro avg       0.84      0.69      0.74      3080\n",
      "weighted avg       0.97      0.98      0.97      3080\n",
      "\n"
     ]
    }
   ],
   "source": [
    "from sklearn.metrics import confusion_matrix, classification_report, accuracy_score\n",
    "\n",
    "pred_KNN = KNN.predict(x_test)\n",
    "print(classification_report(y_test, pred_KNN))"
   ]
  },
  {
   "cell_type": "code",
   "execution_count": 29,
   "metadata": {},
   "outputs": [
    {
     "name": "stdout",
     "output_type": "stream",
     "text": [
      "[[2972   15]\n",
      " [  58   35]]\n"
     ]
    }
   ],
   "source": [
    "cf_matrix_KNN = confusion_matrix(y_test, pred_KNN)\n",
    "print(cf_matrix_KNN)"
   ]
  },
  {
   "cell_type": "code",
   "execution_count": 30,
   "metadata": {},
   "outputs": [
    {
     "data": {
      "text/plain": [
       "<Axes: >"
      ]
     },
     "execution_count": 30,
     "metadata": {},
     "output_type": "execute_result"
    },
    {
     "data": {
      "image/png": "[encoded data removed]",
      "text/plain": [
       "<Figure size 640x480 with 2 Axes>"
      ]
     },
     "metadata": {},
     "output_type": "display_data"
    }
   ],
   "source": [
    "x_label = ['Confirmed', 'Asymptomatic']\n",
    "y_label = ['Confirmed', 'Asymptomatic']\n",
    "\n",
    "sns.heatmap(cf_matrix_KNN/np.sum(cf_matrix_KNN), annot=True, \n",
    "            fmt='.2%', cmap='Blues', xticklabels=x_label, yticklabels=y_label)"
   ]
  },
  {
   "cell_type": "markdown",
   "metadata": {},
   "source": [
    "# Task 5 - Analyzes whether covid 19-derived symptoms are affected by age/sex "
   ]
  },
  {
   "cell_type": "markdown",
   "metadata": {
    "id": "5cad432a"
   },
   "source": [
    "# Extract from 1 January 2021 to current 31 December 2021 1YEARS DATA"
   ]
  },
  {
   "cell_type": "code",
   "execution_count": 2,
   "metadata": {
    "id": "160c7b11"
   },
   "outputs": [],
   "source": [
    "#Select 01/01/2021 to 31/12/2021"
   ]
  },
  {
   "cell_type": "code",
   "execution_count": 3,
   "metadata": {
    "id": "e539ac29"
   },
   "outputs": [],
   "source": [
    "#Latest local situation of COVID-19 "
   ]
  },
  {
   "cell_type": "markdown",
   "metadata": {
    "id": "586fdcf8"
   },
   "source": [
    "# Import module"
   ]
  },
  {
   "cell_type": "code",
   "execution_count": 4,
   "metadata": {
    "id": "5af7b717"
   },
   "outputs": [],
   "source": [
    "import pandas as pd\n",
    "import numpy as np\n",
    "import matplotlib.pyplot as plt\n",
    "import glob\n",
    "from sklearn.model_selection import train_test_split\n",
    "from sklearn.ensemble import RandomForestClassifier\n",
    "from sklearn.metrics import accuracy_score, classification_report"
   ]
  },
  {
   "cell_type": "markdown",
   "metadata": {
    "id": "70518f2d"
   },
   "source": [
    "# Import data,\n",
    "# df = 2019 Local update on coronavirus disease\n",
    "# df_build = List of buildings with positive tests for SARS Coronavirus 2 in the past 7 days"
   ]
  },
  {
   "cell_type": "code",
   "execution_count": 5,
   "metadata": {
    "id": "64e42659"
   },
   "outputs": [],
   "source": [
    "df = pd.read_csv(r\"20211231-0922-enhanced_sur_covid_19_eng.csv\", header=0)"
   ]
  },
  {
   "cell_type": "code",
   "execution_count": 6,
   "metadata": {
    "colab": {
     "base_uri": "https://localhost:8080/",
     "height": 424
    },
    "id": "36f61f84",
    "outputId": "8eb386e8-74f2-480d-c129-50fb9bda985a"
   },
   "outputs": [
    {
     "data": {
      "text/html": [
       "\n",
       "  <div id=\"df-62b1b492-ceaa-4eda-bb08-f5453ec589c6\">\n",
       "    <div class=\"colab-df-container\">\n",
       "      <div>\n",
       "<style scoped>\n",
       "    .dataframe tbody tr th:only-of-type {\n",
       "        vertical-align: middle;\n",
       "    }\n",
       "\n",
       "    .dataframe tbody tr th {\n",
       "        vertical-align: top;\n",
       "    }\n",
       "\n",
       "    .dataframe thead th {\n",
       "        text-align: right;\n",
       "    }\n",
       "</style>\n",
       "<table border=\"1\" class=\"dataframe\">\n",
       "  <thead>\n",
       "    <tr style=\"text-align: right;\">\n",
       "      <th></th>\n",
       "      <th>Case no.</th>\n",
       "      <th>Report date</th>\n",
       "      <th>Date of onset</th>\n",
       "      <th>Gender</th>\n",
       "      <th>Age</th>\n",
       "      <th>Name of hospital admitted</th>\n",
       "      <th>Hospitalised/Discharged/Deceased</th>\n",
       "      <th>HK/Non-HK resident</th>\n",
       "      <th>Case classification*</th>\n",
       "      <th>Confirmed/probable</th>\n",
       "    </tr>\n",
       "  </thead>\n",
       "  <tbody>\n",
       "    <tr>\n",
       "      <th>0</th>\n",
       "      <td>1</td>\n",
       "      <td>23/01/2020</td>\n",
       "      <td>21/01/2020</td>\n",
       "      <td>M</td>\n",
       "      <td>39.0</td>\n",
       "      <td>NaN</td>\n",
       "      <td>Discharged</td>\n",
       "      <td>Non-HK resident</td>\n",
       "      <td>Imported case</td>\n",
       "      <td>Confirmed</td>\n",
       "    </tr>\n",
       "    <tr>\n",
       "      <th>1</th>\n",
       "      <td>2</td>\n",
       "      <td>23/01/2020</td>\n",
       "      <td>18/01/2020</td>\n",
       "      <td>M</td>\n",
       "      <td>56.0</td>\n",
       "      <td>NaN</td>\n",
       "      <td>Discharged</td>\n",
       "      <td>HK resident</td>\n",
       "      <td>Imported case</td>\n",
       "      <td>Confirmed</td>\n",
       "    </tr>\n",
       "    <tr>\n",
       "      <th>2</th>\n",
       "      <td>3</td>\n",
       "      <td>24/01/2020</td>\n",
       "      <td>20/01/2020</td>\n",
       "      <td>F</td>\n",
       "      <td>62.0</td>\n",
       "      <td>NaN</td>\n",
       "      <td>Discharged</td>\n",
       "      <td>Non-HK resident</td>\n",
       "      <td>Imported case</td>\n",
       "      <td>Confirmed</td>\n",
       "    </tr>\n",
       "    <tr>\n",
       "      <th>3</th>\n",
       "      <td>4</td>\n",
       "      <td>24/01/2020</td>\n",
       "      <td>23/01/2020</td>\n",
       "      <td>F</td>\n",
       "      <td>62.0</td>\n",
       "      <td>NaN</td>\n",
       "      <td>Discharged</td>\n",
       "      <td>Non-HK resident</td>\n",
       "      <td>Imported case</td>\n",
       "      <td>Confirmed</td>\n",
       "    </tr>\n",
       "    <tr>\n",
       "      <th>4</th>\n",
       "      <td>5</td>\n",
       "      <td>24/01/2020</td>\n",
       "      <td>23/01/2020</td>\n",
       "      <td>M</td>\n",
       "      <td>63.0</td>\n",
       "      <td>NaN</td>\n",
       "      <td>Discharged</td>\n",
       "      <td>Non-HK resident</td>\n",
       "      <td>Imported case</td>\n",
       "      <td>Confirmed</td>\n",
       "    </tr>\n",
       "    <tr>\n",
       "      <th>...</th>\n",
       "      <td>...</td>\n",
       "      <td>...</td>\n",
       "      <td>...</td>\n",
       "      <td>...</td>\n",
       "      <td>...</td>\n",
       "      <td>...</td>\n",
       "      <td>...</td>\n",
       "      <td>...</td>\n",
       "      <td>...</td>\n",
       "      <td>...</td>\n",
       "    </tr>\n",
       "    <tr>\n",
       "      <th>12631</th>\n",
       "      <td>12632</td>\n",
       "      <td>30/12/2021</td>\n",
       "      <td>Asymptomatic</td>\n",
       "      <td>M</td>\n",
       "      <td>46.0</td>\n",
       "      <td>NaN</td>\n",
       "      <td>To be provided</td>\n",
       "      <td>HK resident</td>\n",
       "      <td>Imported case</td>\n",
       "      <td>Confirmed</td>\n",
       "    </tr>\n",
       "    <tr>\n",
       "      <th>12632</th>\n",
       "      <td>12633</td>\n",
       "      <td>30/12/2021</td>\n",
       "      <td>Asymptomatic</td>\n",
       "      <td>M</td>\n",
       "      <td>32.0</td>\n",
       "      <td>NaN</td>\n",
       "      <td>To be provided</td>\n",
       "      <td>Non-HK resident</td>\n",
       "      <td>Imported case</td>\n",
       "      <td>Confirmed</td>\n",
       "    </tr>\n",
       "    <tr>\n",
       "      <th>12633</th>\n",
       "      <td>12634</td>\n",
       "      <td>30/12/2021</td>\n",
       "      <td>Asymptomatic</td>\n",
       "      <td>F</td>\n",
       "      <td>61.0</td>\n",
       "      <td>NaN</td>\n",
       "      <td>To be provided</td>\n",
       "      <td>HK resident</td>\n",
       "      <td>Imported case</td>\n",
       "      <td>Confirmed</td>\n",
       "    </tr>\n",
       "    <tr>\n",
       "      <th>12634</th>\n",
       "      <td>12635</td>\n",
       "      <td>30/12/2021</td>\n",
       "      <td>Asymptomatic</td>\n",
       "      <td>F</td>\n",
       "      <td>26.0</td>\n",
       "      <td>NaN</td>\n",
       "      <td>To be provided</td>\n",
       "      <td>HK resident</td>\n",
       "      <td>Imported case</td>\n",
       "      <td>Confirmed</td>\n",
       "    </tr>\n",
       "    <tr>\n",
       "      <th>12635</th>\n",
       "      <td>12636</td>\n",
       "      <td>30/12/2021</td>\n",
       "      <td>Asymptomatic</td>\n",
       "      <td>F</td>\n",
       "      <td>28.0</td>\n",
       "      <td>NaN</td>\n",
       "      <td>To be provided</td>\n",
       "      <td>HK resident</td>\n",
       "      <td>Imported case</td>\n",
       "      <td>Confirmed</td>\n",
       "    </tr>\n",
       "  </tbody>\n",
       "</table>\n",
       "<p>12636 rows × 10 columns</p>\n",
       "</div>\n",
       "      <button class=\"colab-df-convert\" onclick=\"convertToInteractive('df-62b1b492-ceaa-4eda-bb08-f5453ec589c6')\"\n",
       "              title=\"Convert this dataframe to an interactive table.\"\n",
       "              style=\"display:none;\">\n",
       "        \n",
       "  <svg xmlns=\"http://www.w3.org/2000/svg\" height=\"24px\"viewBox=\"0 0 24 24\"\n",
       "       width=\"24px\">\n",
       "    <path d=\"M0 0h24v24H0V0z\" fill=\"none\"/>\n",
       "    <path d=\"M18.56 5.44l.94 2.06.94-2.06 2.06-.94-2.06-.94-.94-2.06-.94 2.06-2.06.94zm-11 1L8.5 8.5l.94-2.06 2.06-.94-2.06-.94L8.5 2.5l-.94 2.06-2.06.94zm10 10l.94 2.06.94-2.06 2.06-.94-2.06-.94-.94-2.06-.94 2.06-2.06.94z\"/><path d=\"M17.41 7.96l-1.37-1.37c-.4-.4-.92-.59-1.43-.59-.52 0-1.04.2-1.43.59L10.3 9.45l-7.72 7.72c-.78.78-.78 2.05 0 2.83L4 21.41c.39.39.9.59 1.41.59.51 0 1.02-.2 1.41-.59l7.78-7.78 2.81-2.81c.8-.78.8-2.07 0-2.86zM5.41 20L4 18.59l7.72-7.72 1.47 1.35L5.41 20z\"/>\n",
       "  </svg>\n",
       "      </button>\n",
       "      \n",
       "  <style>\n",
       "    .colab-df-container {\n",
       "      display:flex;\n",
       "      flex-wrap:wrap;\n",
       "      gap: 12px;\n",
       "    }\n",
       "\n",
       "    .colab-df-convert {\n",
       "      background-color: #E8F0FE;\n",
       "      border: none;\n",
       "      border-radius: 50%;\n",
       "      cursor: pointer;\n",
       "      display: none;\n",
       "      fill: #1967D2;\n",
       "      height: 32px;\n",
       "      padding: 0 0 0 0;\n",
       "      width: 32px;\n",
       "    }\n",
       "\n",
       "    .colab-df-convert:hover {\n",
       "      background-color: #E2EBFA;\n",
       "      box-shadow: 0px 1px 2px rgba(60, 64, 67, 0.3), 0px 1px 3px 1px rgba(60, 64, 67, 0.15);\n",
       "      fill: #174EA6;\n",
       "    }\n",
       "\n",
       "    [theme=dark] .colab-df-convert {\n",
       "      background-color: #3B4455;\n",
       "      fill: #D2E3FC;\n",
       "    }\n",
       "\n",
       "    [theme=dark] .colab-df-convert:hover {\n",
       "      background-color: #434B5C;\n",
       "      box-shadow: 0px 1px 3px 1px rgba(0, 0, 0, 0.15);\n",
       "      filter: drop-shadow(0px 1px 2px rgba(0, 0, 0, 0.3));\n",
       "      fill: #FFFFFF;\n",
       "    }\n",
       "  </style>\n",
       "\n",
       "      <script>\n",
       "        const buttonEl =\n",
       "          document.querySelector('#df-62b1b492-ceaa-4eda-bb08-f5453ec589c6 button.colab-df-convert');\n",
       "        buttonEl.style.display =\n",
       "          google.colab.kernel.accessAllowed ? 'block' : 'none';\n",
       "\n",
       "        async function convertToInteractive(key) {\n",
       "          const element = document.querySelector('#df-62b1b492-ceaa-4eda-bb08-f5453ec589c6');\n",
       "          const dataTable =\n",
       "            await google.colab.kernel.invokeFunction('convertToInteractive',\n",
       "                                                     [key], {});\n",
       "          if (!dataTable) return;\n",
       "\n",
       "          const docLinkHtml = 'Like what you see? Visit the ' +\n",
       "            '<a target=\"_blank\" href=https://colab.research.google.com/notebooks/data_table.ipynb>data table notebook</a>'\n",
       "            + ' to learn more about interactive tables.';\n",
       "          element.innerHTML = '';\n",
       "          dataTable['output_type'] = 'display_data';\n",
       "          await google.colab.output.renderOutput(dataTable, element);\n",
       "          const docLink = document.createElement('div');\n",
       "          docLink.innerHTML = docLinkHtml;\n",
       "          element.appendChild(docLink);\n",
       "        }\n",
       "      </script>\n",
       "    </div>\n",
       "  </div>\n",
       "  "
      ],
      "text/plain": [
       "       Case no. Report date Date of onset Gender   Age  \\\n",
       "0             1  23/01/2020    21/01/2020      M  39.0   \n",
       "1             2  23/01/2020    18/01/2020      M  56.0   \n",
       "2             3  24/01/2020    20/01/2020      F  62.0   \n",
       "3             4  24/01/2020    23/01/2020      F  62.0   \n",
       "4             5  24/01/2020    23/01/2020      M  63.0   \n",
       "...         ...         ...           ...    ...   ...   \n",
       "12631     12632  30/12/2021  Asymptomatic      M  46.0   \n",
       "12632     12633  30/12/2021  Asymptomatic      M  32.0   \n",
       "12633     12634  30/12/2021  Asymptomatic      F  61.0   \n",
       "12634     12635  30/12/2021  Asymptomatic      F  26.0   \n",
       "12635     12636  30/12/2021  Asymptomatic      F  28.0   \n",
       "\n",
       "       Name of hospital admitted Hospitalised/Discharged/Deceased  \\\n",
       "0                            NaN                       Discharged   \n",
       "1                            NaN                       Discharged   \n",
       "2                            NaN                       Discharged   \n",
       "3                            NaN                       Discharged   \n",
       "4                            NaN                       Discharged   \n",
       "...                          ...                              ...   \n",
       "12631                        NaN                   To be provided   \n",
       "12632                        NaN                   To be provided   \n",
       "12633                        NaN                   To be provided   \n",
       "12634                        NaN                   To be provided   \n",
       "12635                        NaN                   To be provided   \n",
       "\n",
       "      HK/Non-HK resident Case classification* Confirmed/probable  \n",
       "0        Non-HK resident        Imported case          Confirmed  \n",
       "1            HK resident        Imported case          Confirmed  \n",
       "2        Non-HK resident        Imported case          Confirmed  \n",
       "3        Non-HK resident        Imported case          Confirmed  \n",
       "4        Non-HK resident        Imported case          Confirmed  \n",
       "...                  ...                  ...                ...  \n",
       "12631        HK resident        Imported case          Confirmed  \n",
       "12632    Non-HK resident        Imported case          Confirmed  \n",
       "12633        HK resident        Imported case          Confirmed  \n",
       "12634        HK resident        Imported case          Confirmed  \n",
       "12635        HK resident        Imported case          Confirmed  \n",
       "\n",
       "[12636 rows x 10 columns]"
      ]
     },
     "execution_count": 6,
     "metadata": {},
     "output_type": "execute_result"
    }
   ],
   "source": [
    "df"
   ]
  },
  {
   "cell_type": "code",
   "execution_count": 7,
   "metadata": {
    "id": "aebf1279"
   },
   "outputs": [],
   "source": [
    "df_build = pd.read_csv(r\"20211231-0921-building_list_chi.csv\")"
   ]
  },
  {
   "cell_type": "code",
   "execution_count": 8,
   "metadata": {
    "id": "d00cd3f5"
   },
   "outputs": [],
   "source": [
    "df.to_excel('df.xlsx', index=False)"
   ]
  },
  {
   "cell_type": "code",
   "execution_count": 9,
   "metadata": {
    "id": "b9262a98"
   },
   "outputs": [],
   "source": [
    "df_build.to_excel('df_build.xlsx', index=False)"
   ]
  },
  {
   "cell_type": "markdown",
   "metadata": {
    "id": "42da8c08"
   },
   "source": [
    "\n",
    "# Analyse are the symptoms related to age/gender\n",
    "# 1. symptom vs gender. \n",
    "# 2. symptoms vs age. \n",
    "# 3. symptoms vs gender age\n",
    "\n",
    "\n"
   ]
  },
  {
   "cell_type": "markdown",
   "metadata": {
    "id": "Egg_6AwCbPGF"
   },
   "source": [
    "\n",
    "\n",
    "**DATA CLEANING**"
   ]
  },
  {
   "cell_type": "code",
   "execution_count": 10,
   "metadata": {
    "id": "aaf6e676"
   },
   "outputs": [],
   "source": [
    "df.drop(['Name of hospital admitted'], axis=1, inplace=True)\n",
    "df['Date of onset'] = df['Date of onset'].fillna('')\n",
    "df.loc[df['Date of onset'].str.contains('\\d+/\\d+/\\d+'), 'Date of onset'] = 'symptoms'"
   ]
  },
  {
   "cell_type": "code",
   "execution_count": 11,
   "metadata": {
    "id": "1b76943f"
   },
   "outputs": [],
   "source": [
    "df.rename(columns={'Date of onset': 'symptoms?'}, inplace=True)\n",
    "df.dropna(subset=['Gender'], inplace=True)"
   ]
  },
  {
   "cell_type": "code",
   "execution_count": 12,
   "metadata": {
    "id": "40131df5"
   },
   "outputs": [],
   "source": [
    "# data cleaning\n",
    "df.drop(['Case no.', 'Hospitalised/Discharged/Deceased', 'HK/Non-HK resident', 'Confirmed/probable','Case classification*','Report date'], axis=1, inplace=True)"
   ]
  },
  {
   "cell_type": "code",
   "execution_count": 13,
   "metadata": {
    "id": "33852f8f"
   },
   "outputs": [],
   "source": [
    "df['Gender'] = df['Gender'].map({'M': 1, 'F': 0})\n",
    "df['symptoms?'] = df['symptoms?'].map({'Asymptomatic': 0, 'symptoms': 1})\n",
    "df['Age'] = pd.to_numeric(df['Age'], errors='coerce')"
   ]
  },
  {
   "cell_type": "code",
   "execution_count": 14,
   "metadata": {
    "id": "bc12515f"
   },
   "outputs": [],
   "source": [
    "data_cleaned = df.dropna()"
   ]
  },
  {
   "cell_type": "code",
   "execution_count": 15,
   "metadata": {
    "id": "ea82b7d0"
   },
   "outputs": [],
   "source": [
    "df = data_cleaned"
   ]
  },
  {
   "cell_type": "code",
   "execution_count": 16,
   "metadata": {
    "colab": {
     "base_uri": "https://localhost:8080/"
    },
    "id": "84b5b424",
    "outputId": "2c57e18c-ec3d-4c21-f4f8-95feebf5f202"
   },
   "outputs": [
    {
     "data": {
      "text/plain": [
       "array([ 39.,  56.,  62.,  63.,  47.,  68.,  64.,  73.,  72.,  37.,  75.,\n",
       "        80.,  60.,  25.,  28.,  55.,  65.,  58.,  42.,  24.,  70.,  91.,\n",
       "        57.,  22.,  50.,  51.,  23.,  69.,  86.,  52.,  59.,  71.,  66.,\n",
       "        43.,  67.,  41.,  61.,  54.,  45.,  46.,  32.,  83.,  38.,  48.,\n",
       "        96.,  76.,  35.,  33.,  49.,  21.,  16.,  29.,  26.,  89.,  79.,\n",
       "        84.,  44.,  36.,  31.,   1.,  30.,  18.,  27.,  34.,  20.,  12.,\n",
       "        19.,  40.,   4.,  13.,  17.,  15.,  11.,  74.,  78.,   7.,  14.,\n",
       "        77.,  53.,   0.,   2.,  93.,   6.,   3.,   8.,   5.,  10.,   9.,\n",
       "        85.,  92.,  95.,  87.,  90.,  94.,  82.,  88.,  81.,  97., 100.,\n",
       "        98.])"
      ]
     },
     "execution_count": 16,
     "metadata": {},
     "output_type": "execute_result"
    }
   ],
   "source": [
    "df['Age'].unique()"
   ]
  },
  {
   "cell_type": "code",
   "execution_count": 17,
   "metadata": {
    "colab": {
     "base_uri": "https://localhost:8080/"
    },
    "id": "548c61e7",
    "outputId": "e6d631d1-6ca9-4444-e99e-ff5087e40def"
   },
   "outputs": [
    {
     "data": {
      "text/plain": [
       "array([1., 0.])"
      ]
     },
     "execution_count": 17,
     "metadata": {},
     "output_type": "execute_result"
    }
   ],
   "source": [
    "df['symptoms?'].unique()"
   ]
  },
  {
   "cell_type": "code",
   "execution_count": 18,
   "metadata": {
    "colab": {
     "base_uri": "https://localhost:8080/"
    },
    "id": "9a0fa966",
    "outputId": "34a5ada2-09dd-408d-a5f3-a635de97cc9c"
   },
   "outputs": [
    {
     "data": {
      "text/plain": [
       "array([1, 0])"
      ]
     },
     "execution_count": 18,
     "metadata": {},
     "output_type": "execute_result"
    }
   ],
   "source": [
    "df['Gender'].unique()"
   ]
  },
  {
   "cell_type": "markdown",
   "metadata": {
    "id": "2yf_hXhlbZO2"
   },
   "source": [
    "**Algorithm**"
   ]
  },
  {
   "cell_type": "code",
   "execution_count": 19,
   "metadata": {
    "id": "b2fb249f"
   },
   "outputs": [],
   "source": [
    "from sklearn.model_selection import train_test_split\n",
    "\n",
    "X = df.drop(columns=['symptoms?'])\n",
    "y = df['symptoms?']\n",
    "\n",
    "X_train, X_test, y_train, y_test = train_test_split(X, y, test_size=0.33, random_state=42)"
   ]
  },
  {
   "cell_type": "code",
   "execution_count": 20,
   "metadata": {
    "colab": {
     "base_uri": "https://localhost:8080/"
    },
    "id": "47bc30e4",
    "outputId": "e0bf492e-bbb9-4d9c-ecf5-35dd131a8a01"
   },
   "outputs": [
    {
     "name": "stdout",
     "output_type": "stream",
     "text": [
      "LogisticRegression:\n",
      "[[  11 1411]\n",
      " [  16 2718]]\n",
      "              precision    recall  f1-score   support\n",
      "\n",
      "         0.0       0.41      0.01      0.02      1422\n",
      "         1.0       0.66      0.99      0.79      2734\n",
      "\n",
      "    accuracy                           0.66      4156\n",
      "   macro avg       0.53      0.50      0.40      4156\n",
      "weighted avg       0.57      0.66      0.53      4156\n",
      "\n"
     ]
    }
   ],
   "source": [
    "from sklearn.linear_model import LogisticRegression\n",
    "\n",
    "model = LogisticRegression()\n",
    "model.fit(X_train, y_train)\n",
    "\n",
    "from sklearn.metrics import classification_report, confusion_matrix\n",
    "\n",
    "y_pred = model.predict(X_test)\n",
    "print(\"LogisticRegression:\")\n",
    "print(confusion_matrix(y_test, y_pred))\n",
    "print(classification_report(y_test, y_pred))"
   ]
  },
  {
   "cell_type": "code",
   "execution_count": 21,
   "metadata": {
    "colab": {
     "base_uri": "https://localhost:8080/"
    },
    "id": "3e6eee29",
    "outputId": "109a28fb-7cc8-45e8-843c-d4ba94215f1c"
   },
   "outputs": [
    {
     "name": "stdout",
     "output_type": "stream",
     "text": [
      "Random Forest:\n",
      "[[  82 1340]\n",
      " [  92 2642]]\n",
      "              precision    recall  f1-score   support\n",
      "\n",
      "         0.0       0.47      0.06      0.10      1422\n",
      "         1.0       0.66      0.97      0.79      2734\n",
      "\n",
      "    accuracy                           0.66      4156\n",
      "   macro avg       0.57      0.51      0.44      4156\n",
      "weighted avg       0.60      0.66      0.55      4156\n",
      "\n",
      "SVM:\n",
      "[[   0 1422]\n",
      " [   0 2734]]\n",
      "              precision    recall  f1-score   support\n",
      "\n",
      "         0.0       0.00      0.00      0.00      1422\n",
      "         1.0       0.66      1.00      0.79      2734\n",
      "\n",
      "    accuracy                           0.66      4156\n",
      "   macro avg       0.33      0.50      0.40      4156\n",
      "weighted avg       0.43      0.66      0.52      4156\n",
      "\n",
      "KNN:\n",
      "[[ 266 1156]\n",
      " [ 439 2295]]\n",
      "              precision    recall  f1-score   support\n",
      "\n",
      "         0.0       0.38      0.19      0.25      1422\n",
      "         1.0       0.67      0.84      0.74      2734\n",
      "\n",
      "    accuracy                           0.62      4156\n",
      "   macro avg       0.52      0.51      0.50      4156\n",
      "weighted avg       0.57      0.62      0.57      4156\n",
      "\n",
      "Gradient Boosting:\n",
      "[[  36 1386]\n",
      " [  37 2697]]\n",
      "              precision    recall  f1-score   support\n",
      "\n",
      "         0.0       0.49      0.03      0.05      1422\n",
      "         1.0       0.66      0.99      0.79      2734\n",
      "\n",
      "    accuracy                           0.66      4156\n",
      "   macro avg       0.58      0.51      0.42      4156\n",
      "weighted avg       0.60      0.66      0.54      4156\n",
      "\n"
     ]
    },
    {
     "name": "stderr",
     "output_type": "stream",
     "text": [
      "/usr/local/lib/python3.9/dist-packages/sklearn/metrics/_classification.py:1344: UndefinedMetricWarning: Precision and F-score are ill-defined and being set to 0.0 in labels with no predicted samples. Use `zero_division` parameter to control this behavior.\n",
      "  _warn_prf(average, modifier, msg_start, len(result))\n",
      "/usr/local/lib/python3.9/dist-packages/sklearn/metrics/_classification.py:1344: UndefinedMetricWarning: Precision and F-score are ill-defined and being set to 0.0 in labels with no predicted samples. Use `zero_division` parameter to control this behavior.\n",
      "  _warn_prf(average, modifier, msg_start, len(result))\n",
      "/usr/local/lib/python3.9/dist-packages/sklearn/metrics/_classification.py:1344: UndefinedMetricWarning: Precision and F-score are ill-defined and being set to 0.0 in labels with no predicted samples. Use `zero_division` parameter to control this behavior.\n",
      "  _warn_prf(average, modifier, msg_start, len(result))\n"
     ]
    }
   ],
   "source": [
    "from sklearn.ensemble import RandomForestClassifier, GradientBoostingClassifier\n",
    "from sklearn.svm import SVC\n",
    "from sklearn.neighbors import KNeighborsClassifier\n",
    "\n",
    "# RF\n",
    "rf = RandomForestClassifier(random_state=42)\n",
    "rf.fit(X_train, y_train)\n",
    "y_pred_rf = rf.predict(X_test)\n",
    "\n",
    "# SVM\n",
    "svm = SVC(random_state=42)\n",
    "svm.fit(X_train, y_train)\n",
    "y_pred_svm = svm.predict(X_test)\n",
    "\n",
    "# K\n",
    "knn = KNeighborsClassifier()\n",
    "knn.fit(X_train, y_train)\n",
    "y_pred_knn = knn.predict(X_test)\n",
    "\n",
    "# GB\n",
    "gb = GradientBoostingClassifier(random_state=42)\n",
    "gb.fit(X_train, y_train)\n",
    "y_pred_gb = gb.predict(X_test)\n",
    "\n",
    "print(\"Random Forest:\")\n",
    "print(confusion_matrix(y_test, y_pred_rf))\n",
    "print(classification_report(y_test, y_pred_rf))\n",
    "\n",
    "print(\"SVM:\")\n",
    "print(confusion_matrix(y_test, y_pred_svm))\n",
    "print(classification_report(y_test, y_pred_svm))\n",
    "\n",
    "print(\"KNN:\")\n",
    "print(confusion_matrix(y_test, y_pred_knn))\n",
    "print(classification_report(y_test, y_pred_knn))\n",
    "\n",
    "print(\"Gradient Boosting:\")\n",
    "print(confusion_matrix(y_test, y_pred_gb))\n",
    "print(classification_report(y_test, y_pred_gb))"
   ]
  },
  {
   "cell_type": "markdown",
   "metadata": {
    "id": "31dbefc4"
   },
   "source": [
    "Correlation"
   ]
  },
  {
   "cell_type": "code",
   "execution_count": 22,
   "metadata": {
    "colab": {
     "base_uri": "https://localhost:8080/"
    },
    "id": "3cdd3276",
    "outputId": "61f41745-0ba1-456c-8f3d-819c4f11a908"
   },
   "outputs": [
    {
     "name": "stdout",
     "output_type": "stream",
     "text": [
      "           symptoms?    Gender       Age\n",
      "symptoms?   1.000000 -0.001524  0.142399\n",
      "Gender     -0.001524  1.000000 -0.014183\n",
      "Age         0.142399 -0.014183  1.000000\n"
     ]
    }
   ],
   "source": [
    "# CORRELATION OF Asymptomatic?        Gender       Age\n",
    "correlation_matrix = df.corr()\n",
    "\n",
    "print(correlation_matrix)"
   ]
  },
  {
   "cell_type": "code",
   "execution_count": 23,
   "metadata": {
    "colab": {
     "base_uri": "https://localhost:8080/"
    },
    "id": "fa7ef4be",
    "outputId": "22b14cc2-029d-44a0-bdfc-3ed13fd38bbe"
   },
   "outputs": [
    {
     "name": "stderr",
     "output_type": "stream",
     "text": [
      "<ipython-input-23-0ec1c07d63c2>:1: SettingWithCopyWarning: \n",
      "A value is trying to be set on a copy of a slice from a DataFrame.\n",
      "Try using .loc[row_indexer,col_indexer] = value instead\n",
      "\n",
      "See the caveats in the documentation: https://pandas.pydata.org/pandas-docs/stable/user_guide/indexing.html#returning-a-view-versus-a-copy\n",
      "  df['Gender+Age'] = df['Gender'] + df['Age']\n"
     ]
    }
   ],
   "source": [
    "df['Gender+Age'] = df['Gender'] + df['Age']"
   ]
  },
  {
   "cell_type": "code",
   "execution_count": 24,
   "metadata": {
    "colab": {
     "base_uri": "https://localhost:8080/"
    },
    "id": "38d7d161",
    "outputId": "81926a2c-4adc-4c33-84ad-e2defda564de"
   },
   "outputs": [
    {
     "name": "stdout",
     "output_type": "stream",
     "text": [
      "            symptoms?    Gender       Age  Gender+Age\n",
      "symptoms?    1.000000 -0.001524  0.142399    0.142366\n",
      "Gender      -0.001524  1.000000 -0.014183    0.011255\n",
      "Age          0.142399 -0.014183  1.000000    0.999676\n",
      "Gender+Age   0.142366  0.011255  0.999676    1.000000\n"
     ]
    }
   ],
   "source": [
    "# CORRELATION OF Asymptomatic?        Gender        Age          Gender and Age \n",
    "correlation_matrix = df.corr()\n",
    "\n",
    "print(correlation_matrix)"
   ]
  },
  {
   "cell_type": "markdown",
   "metadata": {
    "id": "9YCDZUCpimdh"
   },
   "source": [
    "**Summary**\n",
    ": Older people may be slightly more likely to develop symptoms."
   ]
  }
 ],
 "metadata": {
  "kernelspec": {
   "display_name": "Python 3",
   "language": "python",
   "name": "python3"
  },
  "language_info": {
   "codemirror_mode": {
    "name": "ipython",
    "version": 3
   },
   "file_extension": ".py",
   "mimetype": "text/x-python",
   "name": "python",
   "nbconvert_exporter": "python",
   "pygments_lexer": "ipython3",
   "version": "3.8.3"
  }
 },
 "nbformat": 4,
 "nbformat_minor": 5
}
